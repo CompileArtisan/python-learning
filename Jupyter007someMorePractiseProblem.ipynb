{
 "cells": [
  {
   "cell_type": "markdown",
   "metadata": {},
   "source": [
    "### <center> Use no if condition or for loop </center>\n",
    "\n",
    "1. Using an assignment operator, output the remainder when length is divided by 3"
   ]
  },
  {
   "cell_type": "code",
   "execution_count": 1,
   "metadata": {},
   "outputs": [
    {
     "name": "stdout",
     "output_type": "stream",
     "text": [
      "2\n"
     ]
    }
   ],
   "source": [
    "length = 11\n",
    "length = length%3\n",
    "print(length)"
   ]
  },
  {
   "cell_type": "markdown",
   "metadata": {},
   "source": [
    "2. You are given with age of person with variable age. Will this person be able to vote?"
   ]
  },
  {
   "cell_type": "code",
   "execution_count": 3,
   "metadata": {},
   "outputs": [
    {
     "name": "stdout",
     "output_type": "stream",
     "text": [
      "False\n"
     ]
    }
   ],
   "source": [
    "print(int(input(\"Enter age dude: \"))>=18)"
   ]
  },
  {
   "cell_type": "markdown",
   "metadata": {},
   "source": [
    "3. How to access the values from a nested list"
   ]
  },
  {
   "cell_type": "code",
   "execution_count": 4,
   "metadata": {},
   "outputs": [
    {
     "name": "stdout",
     "output_type": "stream",
     "text": [
      "6\n"
     ]
    }
   ],
   "source": [
    "a = [\n",
    "    [3, 6, 9],\n",
    "    [1, 2, 3],\n",
    "    [6, 9, 6]\n",
    "]\n",
    "\n",
    "print(a[0][1])"
   ]
  },
  {
   "cell_type": "markdown",
   "metadata": {},
   "source": [
    "4. Print the memory address of a variable"
   ]
  },
  {
   "cell_type": "code",
   "execution_count": 5,
   "metadata": {},
   "outputs": [
    {
     "name": "stdout",
     "output_type": "stream",
     "text": [
      "140705243986616\n"
     ]
    }
   ],
   "source": [
    "x = 9\n",
    "print(id(x))"
   ]
  },
  {
   "cell_type": "markdown",
   "metadata": {},
   "source": [
    "5. Write a python program to read a string form user and from the given string the occurances of its first character should be changed to \"@\", except the first occurance itself"
   ]
  },
  {
   "cell_type": "code",
   "execution_count": 8,
   "metadata": {},
   "outputs": [
    {
     "name": "stdout",
     "output_type": "stream",
     "text": [
      "amrit@\n"
     ]
    }
   ],
   "source": [
    "string = input(\"Enter a string: \")\n",
    "string = string[0] + string[1:].replace(string[0],\"@\")\n",
    "\n",
    "print(string)"
   ]
  },
  {
   "cell_type": "markdown",
   "metadata": {},
   "source": [
    "6. Write a python program to check if a particular element is present in list"
   ]
  },
  {
   "cell_type": "code",
   "execution_count": 11,
   "metadata": {},
   "outputs": [
    {
     "name": "stdout",
     "output_type": "stream",
     "text": [
      "True\n"
     ]
    }
   ],
   "source": [
    "n = int(input(\"Enter number of elements in list: \"))\n",
    "list = [input(\"Enter element\") for i in range(n)]\n",
    "print(input(\"Enter element to search for: \") in list)"
   ]
  },
  {
   "cell_type": "markdown",
   "metadata": {},
   "source": [
    "7. Write a python program to remove the duplicates in a tuple"
   ]
  },
  {
   "cell_type": "code",
   "execution_count": 27,
   "metadata": {},
   "outputs": [
    {
     "name": "stdout",
     "output_type": "stream",
     "text": [
      "('2', '2', '3', '3', '6')\n",
      "('3', '6', '2')\n"
     ]
    }
   ],
   "source": [
    "a = tuple(input(\"Enter element\") for i in range(5))\n",
    "print(a)\n",
    "print(tuple(set(a)))"
   ]
  },
  {
   "cell_type": "markdown",
   "metadata": {},
   "source": [
    "8. Create a dictionary containing student name and age. Show the working of adding elements to dictionary, removing the 3rd element in the dictionary, change the dictionary items, access the updated elements using value key."
   ]
  },
  {
   "cell_type": "code",
   "execution_count": 33,
   "metadata": {},
   "outputs": [
    {
     "name": "stdout",
     "output_type": "stream",
     "text": [
      "{'Name': 'Praanesh', 'age': 13}\n",
      "{'Name': 'varun', 'age': 19}\n"
     ]
    }
   ],
   "source": [
    "def change_element(dictionary):    \n",
    "    dictionary[\"Name\"] = input(\"Enter your name: \") \n",
    "    dictionary[\"age\"] = int(input(\"Enter your age: \"))\n",
    "    return dictionary \n",
    "\n",
    "dict = {\"Name\": \"Praanesh\" , \"age\" : 13}\n",
    "print(dict)\n",
    "print(change_element(dict))"
   ]
  }
 ],
 "metadata": {
  "kernelspec": {
   "display_name": "Python 3",
   "language": "python",
   "name": "python3"
  },
  "language_info": {
   "codemirror_mode": {
    "name": "ipython",
    "version": 3
   },
   "file_extension": ".py",
   "mimetype": "text/x-python",
   "name": "python",
   "nbconvert_exporter": "python",
   "pygments_lexer": "ipython3",
   "version": "3.12.4"
  }
 },
 "nbformat": 4,
 "nbformat_minor": 2
}
