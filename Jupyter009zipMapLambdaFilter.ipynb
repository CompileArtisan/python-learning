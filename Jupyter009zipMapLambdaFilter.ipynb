{
 "cells": [
  {
   "cell_type": "markdown",
   "metadata": {},
   "source": [
    "### Python Lambdas:\n",
    "___"
   ]
  },
  {
   "cell_type": "markdown",
   "metadata": {},
   "source": [
    "eg. A Python Lambda that makes an intro out of name and age"
   ]
  },
  {
   "cell_type": "code",
   "execution_count": 13,
   "metadata": {},
   "outputs": [
    {
     "name": "stdout",
     "output_type": "stream",
     "text": [
      "hey I'm Praanesh, a 19 year old.\n"
     ]
    }
   ],
   "source": [
    "Make_Intro = lambda name, age : f\"hey I'm {name}, a {age} year old.\"\n",
    "print(Make_Intro(\"Praanesh\", 19))\n",
    "\n"
   ]
  },
  {
   "cell_type": "markdown",
   "metadata": {},
   "source": [
    "___\n",
    "eg. A Python Lambda that sorts a list of tuples"
   ]
  },
  {
   "cell_type": "code",
   "execution_count": 14,
   "metadata": {},
   "outputs": [
    {
     "name": "stdout",
     "output_type": "stream",
     "text": [
      "[('English', 88), ('Science', 90), ('Maths', 97), ('Social sciences', 82)]\n",
      "[('Social sciences', 82), ('English', 88), ('Science', 90), ('Maths', 97)]\n"
     ]
    }
   ],
   "source": [
    "listu = [('English', 88), ('Science', 90), ('Maths', 97), ('Social sciences', 82)]\n",
    "print(listu)\n",
    "listu.sort(key=lambda x: x[1])\n",
    "print(listu)\n"
   ]
  },
  {
   "cell_type": "markdown",
   "metadata": {},
   "source": [
    "Some things to note are: \n",
    "- Lists: Let cars = ['Ford', 'BMW', 'Volvo']. Then:\n",
    "    - ```cars.sort()```, returns an ascending order sorted list, numerically or lexicographically\n",
    "    - ```cars.sort(reverse=true)```, returns a descending order sorted list, numerically or lexicographically\n",
    "    - ```cars.sort(key=```name of some function```)``` <br>\n",
    "    for example, if ```monkey()```, is a function, you'd use ```cars.sort(key=monkey)```\n",
    "- ```monkey = lambda x : x[1]``` is the same as: <br><br>\n",
    "```def monkey(x):``` <br>\n",
    "&nbsp;&nbsp;&nbsp;&nbsp;&nbsp;&nbsp;```return x[1]```"
   ]
  },
  {
   "cell_type": "markdown",
   "metadata": {},
   "source": [
    "___\n",
    "### Python filter() function\n",
    "\n",
    "\n",
    "- ```filter(```name of function with boolean return value```, sequence)``` returns a filter object, consisting of the elements of the sequence which give boolean true in the function used. \n",
    "- Each and every value of the sequence is put in the function, and if it returns true, then filter returns that value<br><br><br>\n",
    " eg. filtering out even numbers from a list of integers"
   ]
  },
  {
   "cell_type": "code",
   "execution_count": 15,
   "metadata": {},
   "outputs": [
    {
     "name": "stdout",
     "output_type": "stream",
     "text": [
      "<filter object at 0x0000020A8E5DA3B0>\n",
      "[0, 2, 8]\n"
     ]
    }
   ],
   "source": [
    "print(filter(lambda x : x%2==0, [0, 1, 2, 3, 5, 8, 13])) # this returns a filter object\n",
    "print(list(filter(lambda x : x%2==0, [0, 1, 2, 3, 5, 8, 13]))) # this returns a list\n"
   ]
  },
  {
   "cell_type": "markdown",
   "metadata": {},
   "source": [
    "<br><br><br> eg. remove numbers divisible by 5\n"
   ]
  },
  {
   "cell_type": "code",
   "execution_count": 29,
   "metadata": {},
   "outputs": [
    {
     "name": "stdout",
     "output_type": "stream",
     "text": [
      "[34, 45, 4, 54, 52, 35]\n",
      "[34, 4, 54, 52]\n"
     ]
    }
   ],
   "source": [
    "listx = [34, 45 , 4,  54, 52, 35]\n",
    "print(listx)\n",
    "print(list(filter(lambda x : not x%5==0, listx)))"
   ]
  },
  {
   "cell_type": "markdown",
   "metadata": {},
   "source": [
    "<br><br><br> eg. remove words starting from 'a'"
   ]
  },
  {
   "cell_type": "code",
   "execution_count": 30,
   "metadata": {},
   "outputs": [
    {
     "name": "stdout",
     "output_type": "stream",
     "text": [
      "['Praanesh', 'Anand', 'Abraham', 'John']\n",
      "['Praanesh', 'John']\n"
     ]
    }
   ],
   "source": [
    "listy = [\"Praanesh\", \"Anand\", \"Abraham\", \"John\"]\n",
    "print(listy)\n",
    "print(list(filter(lambda x : x[0].lower()!='a', listy)))"
   ]
  },
  {
   "cell_type": "markdown",
   "metadata": {},
   "source": [
    "___\n",
    "### Python map()\n",
    "\n",
    "- ```map(```name of the function```, sequence )``` returns a map object, consisting of the elements coming out of the function, when put in one by one from the sequence.\n",
    "- Each and every value of the sequence is put in the function, and the map object consists of all the outputs of that function. <br><br><br>\n",
    "\n",
    "eg. squaring every term of a list"
   ]
  },
  {
   "cell_type": "code",
   "execution_count": 21,
   "metadata": {},
   "outputs": [
    {
     "name": "stdout",
     "output_type": "stream",
     "text": [
      "[4, 16, 36, 64, 100]\n"
     ]
    }
   ],
   "source": [
    "print(list(map(lambda x : x**2, [2, 4, 6, 8, 10])))"
   ]
  },
  {
   "cell_type": "markdown",
   "metadata": {},
   "source": [
    "<br><br><br> eg. adding two lists"
   ]
  },
  {
   "cell_type": "code",
   "execution_count": 22,
   "metadata": {},
   "outputs": [
    {
     "name": "stdout",
     "output_type": "stream",
     "text": [
      "[11, 13, 15, 18]\n"
     ]
    }
   ],
   "source": [
    "list1 = [1, 2, 3, 4]\n",
    "list2 = [10, 11, 12, 14]\n",
    "print(list(map(lambda x, y: x+y, list1, list2)))"
   ]
  },
  {
   "cell_type": "markdown",
   "metadata": {},
   "source": [
    "<br><br><br> eg. convert all the characters into uppercase and lowercase and eliminate duplicate letters from a given sequence"
   ]
  },
  {
   "cell_type": "code",
   "execution_count": 26,
   "metadata": {},
   "outputs": [
    {
     "name": "stdout",
     "output_type": "stream",
     "text": [
      "{'u', 'I', 'F', 'e', 'B', 'O', 'A'}\n"
     ]
    }
   ],
   "source": [
    "characters = {'a', 'b', 'E', 'f', 'a', 'i', 'o', 'U', 'a'}\n",
    "print(set(map(lambda x : x.upper() if x==x.lower() else x.lower(), characters)))"
   ]
  },
  {
   "cell_type": "markdown",
   "metadata": {},
   "source": [
    "```if ```condition```:``` <br>\n",
    "&nbsp;&nbsp;&nbsp;&nbsp;&nbsp;&nbsp;```i = 5``` <br>\n",
    "```else:``` <br>\n",
    "&nbsp;&nbsp;&nbsp;&nbsp;&nbsp;&nbsp;  ```i = 0``` <br>\n",
    "\n",
    "in a python one-liner, is:\n",
    "\n",
    "```i = 5 if ```condition ```else 0```"
   ]
  },
  {
   "cell_type": "markdown",
   "metadata": {},
   "source": [
    "___\n",
    "### Questions:"
   ]
  },
  {
   "cell_type": "markdown",
   "metadata": {},
   "source": [
    "1. Construct dictionary from the given list."
   ]
  },
  {
   "cell_type": "code",
   "execution_count": 16,
   "metadata": {},
   "outputs": [
    {
     "name": "stdout",
     "output_type": "stream",
     "text": [
      "{'John': 20, 'jay': 25, 'Anusha': 30}\n",
      "\n",
      "20\n",
      "25\n",
      "30\n"
     ]
    }
   ],
   "source": [
    "Name = [\"John\", \"jay\", \"Anusha\"]\n",
    "Age = [20, 25, 30]\n",
    "details = dict(zip(Name, Age))\n",
    "\n",
    "print(details, end=\"\\n\\n\")\n",
    "\n",
    "for i in details.keys():\n",
    "    print(details[i])"
   ]
  },
  {
   "cell_type": "markdown",
   "metadata": {},
   "source": [
    "2. Write a python program where given two lists identify the pairs for which sum is even"
   ]
  },
  {
   "cell_type": "code",
   "execution_count": 17,
   "metadata": {},
   "outputs": [],
   "source": [
    "list1 = [1, 2, 3, 4]\n",
    "list2 = [10, 11, 12, 14]"
   ]
  },
  {
   "cell_type": "code",
   "execution_count": 18,
   "metadata": {},
   "outputs": [
    {
     "name": "stdout",
     "output_type": "stream",
     "text": [
      "[False, False, False, True]\n"
     ]
    }
   ],
   "source": [
    "# Method 1\n",
    "sum_is_even = lambda x, y: (x + y) % 2 == 0\n",
    "print(list(map(sum_is_even, list1, list2)))"
   ]
  },
  {
   "cell_type": "code",
   "execution_count": 19,
   "metadata": {},
   "outputs": [
    {
     "name": "stdout",
     "output_type": "stream",
     "text": [
      "[11, 13, 15, 18]\n",
      "[18]\n"
     ]
    }
   ],
   "source": [
    "# Method 2 \n",
    "result = [x + y for x, y in zip(list1, list2)]\n",
    "print(result)\n",
    "sum_is_even = lambda x: x % 2 == 0\n",
    "print(list(filter(sum_is_even, result)))"
   ]
  }
 ],
 "metadata": {
  "kernelspec": {
   "display_name": "Python 3",
   "language": "python",
   "name": "python3"
  },
  "language_info": {
   "codemirror_mode": {
    "name": "ipython",
    "version": 3
   },
   "file_extension": ".py",
   "mimetype": "text/x-python",
   "name": "python",
   "nbconvert_exporter": "python",
   "pygments_lexer": "ipython3",
   "version": "3.12.4"
  }
 },
 "nbformat": 4,
 "nbformat_minor": 2
}
