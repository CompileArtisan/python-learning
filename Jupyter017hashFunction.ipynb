{
 "cells": [
  {
   "cell_type": "markdown",
   "metadata": {},
   "source": [
    "#### Name: Praanesh Balakrishnan Nair\n",
    "#### Roll Number: BL.EN.U4AIE23123"
   ]
  },
  {
   "cell_type": "markdown",
   "metadata": {},
   "source": [
    "1. Write a simple hash function using a simple modulus operator. Test your function with the integers 7, 12, and 15. Take the size of the hash table from the user.\n"
   ]
  },
  {
   "cell_type": "code",
   "execution_count": 28,
   "metadata": {},
   "outputs": [
    {
     "name": "stdout",
     "output_type": "stream",
     "text": [
      "Size: 2\n",
      "Integers: [7, 12, 15]\n",
      "[[12], [7, 15]]\n"
     ]
    }
   ],
   "source": [
    "def main():\n",
    "    size = int(input(\"Enter the size of the hash table: \"))\n",
    "    integers = eval(\"[\"+input(\"Enter the integers as comma seperated values: \")+\"]\")\n",
    "    print(f\"Size: {size}\\nIntegers: {integers}\")\n",
    "    print(hash(size, integers))\n",
    "\n",
    "    \n",
    "def hash(size, integers):\n",
    "    hash_table = [[] for _ in range(size)]\n",
    "    for i in integers:\n",
    "        hash_table[i % size].append(i)\n",
    "    return hash_table\n",
    "    \n",
    "if __name__ == \"__main__\":\n",
    "    main()\n"
   ]
  },
  {
   "cell_type": "markdown",
   "metadata": {},
   "source": [
    "2. Design a basic hash function that maps each string to integer. Use your function to hash the strings \"apple\", \"banana\" and \"cherry\"."
   ]
  },
  {
   "cell_type": "code",
   "execution_count": 30,
   "metadata": {},
   "outputs": [
    {
     "name": "stdout",
     "output_type": "stream",
     "text": [
      "Size: 3\n",
      "Strings: ['apple', 'banana', 'cherry']\n",
      "['banana', None, 'cherry']\n"
     ]
    }
   ],
   "source": [
    "def main():\n",
    "    size = int(input(\"Enter the size of the hash table: \"))\n",
    "    strings = input(\"Enter the strings as comma seperated values: \").split()\n",
    "    print(f\"Size: {size}\\nStrings: {strings}\")\n",
    "    print(hash(size, strings))\n",
    "    \n",
    "def hash(size, strings):\n",
    "    hash_table = [None for _ in range(size)]\n",
    "    for i in strings:\n",
    "        hash_table[sum(ord(j) for j in i) % size] = i\n",
    "    return hash_table\n",
    "    \n",
    "    \n",
    "    \n",
    "if __name__ == \"__main__\":\n",
    "    main()"
   ]
  }
 ],
 "metadata": {
  "kernelspec": {
   "display_name": "Python 3",
   "language": "python",
   "name": "python3"
  },
  "language_info": {
   "codemirror_mode": {
    "name": "ipython",
    "version": 3
   },
   "file_extension": ".py",
   "mimetype": "text/x-python",
   "name": "python",
   "nbconvert_exporter": "python",
   "pygments_lexer": "ipython3",
   "version": "3.12.4"
  }
 },
 "nbformat": 4,
 "nbformat_minor": 2
}
