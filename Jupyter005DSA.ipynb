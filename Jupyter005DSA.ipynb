{
 "cells": [
  {
   "cell_type": "markdown",
   "metadata": {},
   "source": [
    "### <center>Python code for DSA,18/Jul/24</center>\n",
    "\n",
    "Name: Praanesh Balakrishnan Nair\n",
    "<br>\n",
    "Roll number: BL.EN.U4AIE23123"
   ]
  },
  {
   "cell_type": "markdown",
   "metadata": {},
   "source": [
    "Linear Search"
   ]
  },
  {
   "cell_type": "code",
   "execution_count": 1,
   "metadata": {},
   "outputs": [
    {
     "name": "stdout",
     "output_type": "stream",
     "text": [
      "0 10 0 10 4 8 4 0 1 9 \n",
      "found at 4\n"
     ]
    }
   ],
   "source": [
    "import random\n",
    "\n",
    "def main():\n",
    "    arr = []\n",
    "    for i in range(11):\n",
    "        arr.append(random.randint(0, 10))\n",
    "    for i in range(len(arr)-1):\n",
    "        print(arr[i], end = \" \")\n",
    "    print()\n",
    "    x = linearSearch(arr, int(input(\"Enter a number to search for in this random array: \")))\n",
    "    if x:\n",
    "        print(f\"found at {x}\")\n",
    "    else:\n",
    "        print(\"not found\")\n",
    "\n",
    "def linearSearch(array, value):\n",
    "    for i in range(len(array)):\n",
    "        if value == array[i]:\n",
    "            return i       \n",
    " \n",
    "    \n",
    "\n",
    "\n",
    "if __name__ == \"__main__\":\n",
    "    main()"
   ]
  },
  {
   "cell_type": "markdown",
   "metadata": {},
   "source": [
    "Binary Search"
   ]
  },
  {
   "cell_type": "code",
   "execution_count": 2,
   "metadata": {},
   "outputs": [
    {
     "name": "stdout",
     "output_type": "stream",
     "text": [
      "9 2 5 9 9 9 6 3 9 0 \n",
      "Found\n"
     ]
    }
   ],
   "source": [
    "import random\n",
    "\n",
    "def main():\n",
    "    arr = []\n",
    "    for i in range(11):\n",
    "        arr.append(random.randint(0, 10))\n",
    "    for i in range(len(arr)-1):\n",
    "        print(arr[i], end = \" \")\n",
    "    print()\n",
    "    if binarySearch(arr, int(input(\"Enter a number to search for in this random array: \"))):\n",
    "        print(\"Found\")\n",
    "    else:\n",
    "        print(\"not found\")\n",
    "\n",
    "def binarySearch(array, value):\n",
    "    array = sorted(array)\n",
    "    lo = 0\n",
    "    hi = len(array) - 1\n",
    "    while lo <= hi:\n",
    "        mid = int((lo + hi)/2)\n",
    "        if value == array[mid]:\n",
    "            return True\n",
    "        elif value < array[mid]:\n",
    "            hi = mid - 1\n",
    "        else:\n",
    "            lo = mid + 1\n",
    "    return False\n",
    "        \n",
    " \n",
    "    \n",
    "\n",
    "\n",
    "if __name__ == \"__main__\":\n",
    "    main()"
   ]
  },
  {
   "cell_type": "markdown",
   "metadata": {},
   "source": [
    "Stack Operations"
   ]
  },
  {
   "cell_type": "code",
   "execution_count": 3,
   "metadata": {},
   "outputs": [
    {
     "name": "stdout",
     "output_type": "stream",
     "text": [
      "40\n",
      "30\n",
      "20\n",
      "10\n",
      "0\n"
     ]
    }
   ],
   "source": [
    "def main():\n",
    "    stk = Stack()\n",
    "    for i in range(5):\n",
    "        stk.push(i * 10)\n",
    "\n",
    "    stk.printStack()\n",
    "        \n",
    "        \n",
    "class Stack:\n",
    "    def __init__(self):\n",
    "        self.stack = []\n",
    "        self.TOP = -1\n",
    "\n",
    "    def push(self, value):\n",
    "        self.TOP += 1\n",
    "        if len(self.stack) > self.TOP:\n",
    "            self.stack[self.TOP] = value\n",
    "        else:\n",
    "            self.stack.append(value)\n",
    "\n",
    "    def pop(self):\n",
    "        if self.TOP == -1:\n",
    "            return None\n",
    "        value = self.stack[self.TOP]\n",
    "        self.TOP -= 1\n",
    "        return value\n",
    "\n",
    "    def peek(self):\n",
    "        if self.TOP == -1:\n",
    "            return None\n",
    "        return self.stack[self.TOP]\n",
    "    \n",
    "    def printStack(self):\n",
    "        for i in range(self.TOP, -1, -1):\n",
    "            print(self.stack[i])\n",
    "\n",
    "\n",
    "\n",
    "if __name__ == \"__main__\":\n",
    "    main()"
   ]
  }
 ],
 "metadata": {
  "kernelspec": {
   "display_name": "Python 3",
   "language": "python",
   "name": "python3"
  },
  "language_info": {
   "codemirror_mode": {
    "name": "ipython",
    "version": 3
   },
   "file_extension": ".py",
   "mimetype": "text/x-python",
   "name": "python",
   "nbconvert_exporter": "python",
   "pygments_lexer": "ipython3",
   "version": "3.12.4"
  }
 },
 "nbformat": 4,
 "nbformat_minor": 2
}
