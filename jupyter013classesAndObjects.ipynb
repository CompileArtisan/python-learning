{
 "cells": [
  {
   "cell_type": "markdown",
   "metadata": {},
   "source": [
    "#### Name: Praanesh Balakrishnan Nair\n",
    "#### Roll No. BL.EN.U4AIE23123\n"
   ]
  },
  {
   "cell_type": "code",
   "execution_count": 7,
   "metadata": {},
   "outputs": [
    {
     "name": "stdout",
     "output_type": "stream",
     "text": [
      "Name:  Hari  , Salary:  69000\n",
      "Name:  Haran , Salary:  96000\n",
      "Name:  K , Salary:  1000\n"
     ]
    }
   ],
   "source": [
    "def main():\n",
    "    for i in range(int(input(\"Enter number of employees: \"))):\n",
    "        name = input(f\"Enter name of Employee {i+1}: \")\n",
    "        salary = int(input(f\"Enter salary of Employee {i+1}: \"))\n",
    "        emp = Employee(name, salary)\n",
    "        emp.display()\n",
    "\n",
    "class Employee:\n",
    "    count=0\n",
    "    def __init__(self, name, salary):\n",
    "        self.name = name\n",
    "        self.salary = salary\n",
    "        Employee.count += 1\n",
    "        \n",
    "    def __str__(self):\n",
    "        return f\"{self.name} makes {self.salary}\"\n",
    "        \n",
    "    def display(self):\n",
    "        print(\"Name: \", self.name, \", Salary: \", self.salary)\n",
    "        \n",
    "    def displayCount(self):\n",
    "        print(f\"Total Employee {Employee.count}\")\n",
    "        \n",
    "if __name__ == \"__main__\":\n",
    "    main()"
   ]
  }
 ],
 "metadata": {
  "kernelspec": {
   "display_name": "Python 3",
   "language": "python",
   "name": "python3"
  },
  "language_info": {
   "codemirror_mode": {
    "name": "ipython",
    "version": 3
   },
   "file_extension": ".py",
   "mimetype": "text/x-python",
   "name": "python",
   "nbconvert_exporter": "python",
   "pygments_lexer": "ipython3",
   "version": "3.12.4"
  }
 },
 "nbformat": 4,
 "nbformat_minor": 2
}
