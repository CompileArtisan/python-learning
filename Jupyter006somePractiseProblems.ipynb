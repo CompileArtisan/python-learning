{
 "cells": [
  {
   "cell_type": "markdown",
   "metadata": {},
   "source": [
    "Swapping two numbers with a temporary variable"
   ]
  },
  {
   "cell_type": "code",
   "execution_count": 4,
   "metadata": {},
   "outputs": [
    {
     "name": "stdout",
     "output_type": "stream",
     "text": [
      "x = 4, y = 3\n"
     ]
    }
   ],
   "source": [
    "x = int(input(\"Enter a number:\"))\n",
    "y = int(input(\"Enter another number:\"))\n",
    "temp = x\n",
    "x = y\n",
    "y = temp\n",
    "print(f\"x = {x}, y = {y}\")"
   ]
  },
  {
   "cell_type": "markdown",
   "metadata": {},
   "source": [
    "Swapping two numbers without temporary variable"
   ]
  },
  {
   "cell_type": "code",
   "execution_count": 2,
   "metadata": {},
   "outputs": [
    {
     "name": "stdout",
     "output_type": "stream",
     "text": [
      "x = 3, y = 4\n"
     ]
    }
   ],
   "source": [
    "x = int(input(\"Enter a number:\"))\n",
    "y = int(input(\"Enter another number:\"))\n",
    "x = x + y\n",
    "y = x - y\n",
    "x = x - y\n",
    "print(f\"x = {x}, y = {y}\")\n"
   ]
  },
  {
   "cell_type": "markdown",
   "metadata": {},
   "source": [
    "Area of a triangle"
   ]
  },
  {
   "cell_type": "code",
   "execution_count": 3,
   "metadata": {},
   "outputs": [
    {
     "name": "stdout",
     "output_type": "stream",
     "text": [
      "The area of the triangle is 6.0\n"
     ]
    }
   ],
   "source": [
    "b = int(input(\"Enter the value of the base: \"))\n",
    "h = int(input(\"Enter the value of the height: \"))\n",
    "print(f\"The area of the triangle is {b*h*0.5}\")"
   ]
  },
  {
   "cell_type": "markdown",
   "metadata": {},
   "source": [
    "Roots of a quadratic equation"
   ]
  },
  {
   "cell_type": "code",
   "execution_count": 3,
   "metadata": {},
   "outputs": [
    {
     "name": "stdout",
     "output_type": "stream",
     "text": [
      "The roots are 7.0 and -2.0\n"
     ]
    }
   ],
   "source": [
    "import numpy as np\n",
    "a = int(input(\"Enter the coefficients of x^2: \"))\n",
    "b = int(input(\"Enter the coefficients of x: \"))\n",
    "c = int(input(\"Enter the value of the contant: \"))\n",
    "d = b**2 - 4*a*c\n",
    "if d<0:\n",
    "    print(\"Imaginary :(\")\n",
    "else:\n",
    "    root1 = (-b + np.sqrt(d))/(2*a)\n",
    "    root2 = (-b - np.sqrt(d))/(2*a)\n",
    "    print(f\"The roots are {root1} and {root2}\")\n"
   ]
  },
  {
   "cell_type": "markdown",
   "metadata": {},
   "source": [
    "Reverse digits of a number"
   ]
  },
  {
   "cell_type": "code",
   "execution_count": 10,
   "metadata": {},
   "outputs": [
    {
     "name": "stdout",
     "output_type": "stream",
     "text": [
      "The reversed number is 5321\n"
     ]
    }
   ],
   "source": [
    "n = int(input(\"Enter some big number: \"))\n",
    "reverse = 0\n",
    "while n != 0:\n",
    "    reverse = reverse * 10 + n % 10\n",
    "    n = n // 10\n",
    "print(f\"The reversed number is {reverse}\")"
   ]
  },
  {
   "cell_type": "markdown",
   "metadata": {},
   "source": [
    "Find if it's prime or not"
   ]
  },
  {
   "cell_type": "code",
   "execution_count": 11,
   "metadata": {},
   "outputs": [
    {
     "name": "stdout",
     "output_type": "stream",
     "text": [
      "49 is not a prime number\n"
     ]
    }
   ],
   "source": [
    "a = int(input(\"Enter a number: \"))\n",
    "is_prime = True\n",
    "\n",
    "if a <= 1:\n",
    "    is_prime = False\n",
    "else:\n",
    "    for i in range(2, int(a/2) + 1):\n",
    "        if a % i == 0:\n",
    "            is_prime = False\n",
    "            break\n",
    "\n",
    "if is_prime:\n",
    "    print(f\"{a} is a prime number\")\n",
    "else:\n",
    "    print(f\"{a} is not a prime number\")"
   ]
  }
 ],
 "metadata": {
  "kernelspec": {
   "display_name": "Python 3",
   "language": "python",
   "name": "python3"
  },
  "language_info": {
   "codemirror_mode": {
    "name": "ipython",
    "version": 3
   },
   "file_extension": ".py",
   "mimetype": "text/x-python",
   "name": "python",
   "nbconvert_exporter": "python",
   "pygments_lexer": "ipython3",
   "version": "3.12.4"
  }
 },
 "nbformat": 4,
 "nbformat_minor": 2
}
