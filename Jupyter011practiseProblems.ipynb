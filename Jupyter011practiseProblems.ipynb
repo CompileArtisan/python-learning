{
 "cells": [
  {
   "cell_type": "markdown",
   "metadata": {},
   "source": [
    "#### Name: Praanesh Balakrishnan Nair\n",
    "#### Roll No. BL.EN.U4AIE23123\n"
   ]
  },
  {
   "cell_type": "markdown",
   "metadata": {},
   "source": [
    "1. Write a Python program to count number of digits in the given number."
   ]
  },
  {
   "cell_type": "code",
   "execution_count": 5,
   "metadata": {},
   "outputs": [
    {
     "name": "stdout",
     "output_type": "stream",
     "text": [
      "4\n"
     ]
    }
   ],
   "source": [
    "x = int(input(\"Enter some number: \"))\n",
    "count=0\n",
    "while x>1:\n",
    "    x/=10\n",
    "    count+=1\n",
    "print(count)"
   ]
  },
  {
   "cell_type": "markdown",
   "metadata": {},
   "source": [
    "2. Write a python function, spell_check() which accepts a dictionary. The input dictionary will contain correct spelling of a word as key and the spelling provided by a student as a value. Print the count of correct words in the dictionary. "
   ]
  },
  {
   "cell_type": "code",
   "execution_count": 10,
   "metadata": {},
   "outputs": [
    {
     "name": "stdout",
     "output_type": "stream",
     "text": [
      "the the\n",
      "quick kwik\n",
      "brown brown\n",
      "fox fox\n",
      "jumps jumps\n",
      "over over\n",
      "lazy lazy\n",
      "dog dawg\n",
      "6\n"
     ]
    }
   ],
   "source": [
    "def main():\n",
    "    keys = [\"the\", \"quick\", \"brown\", \"fox\", \"jumps\", \"over\", \"lazy\", \"dog\"]\n",
    "    values = [input(f\"Enter spelling of word {i+1}: \") for i in range(len(keys))]\n",
    "    Dictionary = zip(keys, values)\n",
    "    dictionary = dict(Dictionary)\n",
    "    print(spell_check(dictionary))\n",
    "\n",
    "\n",
    "def spell_check(dictionary):\n",
    "    no_of_correct_words = 0\n",
    "    for key in dictionary:\n",
    "        print(key, dictionary[key])\n",
    "        if dictionary[key].lower() == key.lower():\n",
    "                no_of_correct_words += 1\n",
    "    return no_of_correct_words\n",
    "            \n",
    "    \n",
    "        \n",
    "if __name__ == \"__main__\":\n",
    "    main()  "
   ]
  },
  {
   "cell_type": "markdown",
   "metadata": {},
   "source": [
    "3. Execute the below code and check the output:\n"
   ]
  },
  {
   "cell_type": "code",
   "execution_count": 11,
   "metadata": {},
   "outputs": [
    {
     "name": "stdout",
     "output_type": "stream",
     "text": [
      "code-1: positional arguments\n",
      "Regno: AIE112\n",
      "Age: 20\n",
      "Regno: 20\n",
      "Age:  AIE112\n"
     ]
    }
   ],
   "source": [
    "def display1(Regno,age):\n",
    "    print(\"Regno:\", Regno)\n",
    "    print(\"Age:\", age)\n",
    "\n",
    "print(\"code-1: positional arguments\")\n",
    "display1(\"AIE112\",20)\n",
    "#Uncomment and execute the below function call statement and observe the output\n",
    "display1(20,\" AIE112\")\n"
   ]
  },
  {
   "cell_type": "code",
   "execution_count": 15,
   "metadata": {},
   "outputs": [
    {
     "name": "stdout",
     "output_type": "stream",
     "text": [
      "-------------------------------------------------\n",
      "code-2: keyword arguments\n",
      "Regno:  AIE112\n",
      "Age: 19\n"
     ]
    }
   ],
   "source": [
    "\n",
    "def display2(Regno,age):\n",
    "    print(\"Regno:\", Regno)\n",
    "    print(\"Age:\", age)\n",
    "\n",
    "print(\"-------------------------------------------------\")\n",
    "print(\"code-2: keyword arguments\")\n",
    "display2(Regno=\" AIE112\", age=19)\n"
   ]
  },
  {
   "cell_type": "code",
   "execution_count": 16,
   "metadata": {},
   "outputs": [
    {
     "name": "stdout",
     "output_type": "stream",
     "text": [
      "-------------------------------------------------\n",
      "code-3: default arguments\n",
      "AIE112\n",
      "3\n",
      "C303\n",
      "AIE234\n",
      "3\n",
      "C303\n",
      "AIE78\n",
      "4\n",
      "C200\n"
     ]
    }
   ],
   "source": [
    "\n",
    "def display3(regno, sem=3, roomno=\"C303\"):\n",
    "    print(regno)\n",
    "    print(sem)\n",
    "    print(roomno)\n",
    "\n",
    "print(\"-------------------------------------------------\")\n",
    "print(\"code-3: default arguments\")\n",
    "display3(\"AIE112\",3)\n",
    "#Uncomment and execute the below function call statements one by one and observe the output\n",
    "display3(\"AIE234\")\n",
    "display3(\"AIE78\",\"4\",\"C200\")\n",
    "\n"
   ]
  },
  {
   "cell_type": "code",
   "execution_count": 19,
   "metadata": {},
   "outputs": [
    {
     "name": "stdout",
     "output_type": "stream",
     "text": [
      "-------------------------------------------------\n",
      "code-4: variable argument count\n",
      "Passenger name: Jack\n",
      "Total: 25\n",
      "Passenger name: Chan\n",
      "Total: 32\n",
      "Passenger name: Henry\n",
      "Total: 23\n"
     ]
    }
   ],
   "source": [
    "\n",
    "def display4(name, *total_marks):\n",
    "    print(\"Passenger name:\",name)\n",
    "    total=0\n",
    "    for i in total_marks:\n",
    "        total+=i\n",
    "    print(\"Total:\", total)\n",
    "\n",
    "print(\"-------------------------------------------------\")\n",
    "print(\"code-4: variable argument count\")\n",
    "display4(\"Jack\",12,8,5)\n",
    "#Uncomment and execute the below function call statements one by one and observe the output\n",
    "display4(\"Chan\",20,12)\n",
    "display4(\"Henry\",23)"
   ]
  },
  {
   "cell_type": "markdown",
   "metadata": {},
   "source": [
    "4. Write a python program to print odd numbers from 10 to 50."
   ]
  },
  {
   "cell_type": "code",
   "execution_count": 21,
   "metadata": {},
   "outputs": [
    {
     "name": "stdout",
     "output_type": "stream",
     "text": [
      "[11, 13, 15, 17, 19, 21, 23, 25, 27, 29, 31, 33, 35, 37, 39, 41, 43, 45, 47, 49]\n"
     ]
    }
   ],
   "source": [
    "print([i for i in range(10, 51) if i%2==1])"
   ]
  },
  {
   "cell_type": "markdown",
   "metadata": {},
   "source": [
    "5. Write a python program to display numbers from -10 to -1 using for loop"
   ]
  },
  {
   "cell_type": "code",
   "execution_count": 23,
   "metadata": {},
   "outputs": [
    {
     "name": "stdout",
     "output_type": "stream",
     "text": [
      "10\n",
      "9\n",
      "8\n",
      "7\n",
      "6\n",
      "5\n",
      "4\n",
      "3\n",
      "2\n",
      "1\n",
      "0\n",
      "-1\n"
     ]
    }
   ],
   "source": [
    "for i in range(10, -2, -1):\n",
    "    print(i)"
   ]
  },
  {
   "cell_type": "markdown",
   "metadata": {},
   "source": [
    "6. Create a list and execute the following statements and check the output:"
   ]
  },
  {
   "cell_type": "code",
   "execution_count": 25,
   "metadata": {},
   "outputs": [
    {
     "name": "stdout",
     "output_type": "stream",
     "text": [
      "[20, 30, 40, 50]\n",
      "[10, 20]\n",
      "[10, 20, 30]\n",
      "[10, 20, 30, 40, 50]\n",
      "[20, 30]\n",
      "[30, 40, 50]\n"
     ]
    }
   ],
   "source": [
    "Mylist = [10, 20, 30, 40, 50]  \n",
    "print(Mylist[1:])\n",
    "print(Mylist[:2])\n",
    "print(Mylist[:-2])\n",
    "print(Mylist[-5:])\n",
    "print(Mylist[1:-2])\n",
    "print(Mylist[-3:5])\n"
   ]
  },
  {
   "cell_type": "markdown",
   "metadata": {},
   "source": [
    "7. Write a function called list_add that takes a list of lists of integers and adds up the elements from all of the nested lists."
   ]
  },
  {
   "cell_type": "code",
   "execution_count": 34,
   "metadata": {},
   "outputs": [
    {
     "name": "stdout",
     "output_type": "stream",
     "text": [
      "[6, 15, 24]\n"
     ]
    }
   ],
   "source": [
    "def list_add(list_of_lists):\n",
    "    return [sum(i) for i in list_of_lists]\n",
    "\n",
    "print(list_add([[1, 2, 3], [4, 5, 6], [7, 8, 9]]))"
   ]
  },
  {
   "cell_type": "markdown",
   "metadata": {},
   "source": [
    "8. Write a function called middle that takes a list and returns a new list that contains\n",
    "all without including the first and last elements. \n"
   ]
  },
  {
   "cell_type": "code",
   "execution_count": 27,
   "metadata": {},
   "outputs": [
    {
     "name": "stdout",
     "output_type": "stream",
     "text": [
      "[10, 20, 30, 40, 50]\n",
      "[20, 30, 40]\n"
     ]
    }
   ],
   "source": [
    "def middle(list):\n",
    "    return list[1:-1]\n",
    "\n",
    "print(Mylist)\n",
    "print(middle(Mylist))"
   ]
  },
  {
   "cell_type": "markdown",
   "metadata": {},
   "source": [
    "9. Write a function called is_sorted that takes a list as a parameter and returns True\n",
    "if the list is sorted in ascending order and False otherwise. \n"
   ]
  },
  {
   "cell_type": "code",
   "execution_count": 29,
   "metadata": {},
   "outputs": [
    {
     "name": "stdout",
     "output_type": "stream",
     "text": [
      "True\n",
      "False\n"
     ]
    }
   ],
   "source": [
    "def is_sorted(list):\n",
    "    return list == sorted(list)\n",
    "\n",
    "print(is_sorted([1, 2, 2]))\n",
    "print(is_sorted(['b', 'a']))"
   ]
  },
  {
   "cell_type": "markdown",
   "metadata": {},
   "source": [
    "10. Given a list, write a Python program to swap first and last element of the list."
   ]
  },
  {
   "cell_type": "code",
   "execution_count": 32,
   "metadata": {},
   "outputs": [
    {
     "name": "stdout",
     "output_type": "stream",
     "text": [
      "[7, 2, 3, 4, 5, 6, 1]\n"
     ]
    }
   ],
   "source": [
    "list1 = [1, 2, 3, 4, 5, 6, 7]\n",
    "list1[0], list1[len(list1)-1] = list1[len(list1)-1], list1[0]\n",
    "print(list1)"
   ]
  },
  {
   "cell_type": "markdown",
   "metadata": {},
   "source": [
    "11. Given a list of numbers, write a Python program to find the second largest number in the given list."
   ]
  },
  {
   "cell_type": "code",
   "execution_count": 33,
   "metadata": {},
   "outputs": [
    {
     "name": "stdout",
     "output_type": "stream",
     "text": [
      "6\n"
     ]
    }
   ],
   "source": [
    "list1 = [1, 2, 3, 4, 5, 6, 7]\n",
    "list1.remove(max(list1))\n",
    "print(max(list1))"
   ]
  }
 ],
 "metadata": {
  "kernelspec": {
   "display_name": "Python 3",
   "language": "python",
   "name": "python3"
  },
  "language_info": {
   "codemirror_mode": {
    "name": "ipython",
    "version": 3
   },
   "file_extension": ".py",
   "mimetype": "text/x-python",
   "name": "python",
   "nbconvert_exporter": "python",
   "pygments_lexer": "ipython3",
   "version": "3.12.4"
  }
 },
 "nbformat": 4,
 "nbformat_minor": 2
}
