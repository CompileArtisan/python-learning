{
 "cells": [
  {
   "cell_type": "markdown",
   "metadata": {},
   "source": [
    "#### Name: Praanesh Balakrishnan Nair\n",
    "#### Roll Number: BL.EN.U4AIE23123"
   ]
  },
  {
   "cell_type": "markdown",
   "metadata": {},
   "source": [
    "___\n",
    "### Simple Hashing\n",
    "\n",
    "h(x) = x % size"
   ]
  },
  {
   "cell_type": "code",
   "execution_count": 10,
   "metadata": {},
   "outputs": [
    {
     "name": "stdout",
     "output_type": "stream",
     "text": [
      "[8, 3, 13, 6, 4, 10]\n",
      "[10, None, None, 13, 4, None, 6, None, 8, None]\n"
     ]
    }
   ],
   "source": [
    "def Simple_Hash(list, size):\n",
    "    hash_table = [None for _ in range(size)]\n",
    "    for i in list:\n",
    "        hash_table[i % size] = i\n",
    "    return hash_table\n",
    "        \n",
    "x = [8, 3, 13, 6, 4, 10]\n",
    "print(x)\n",
    "print(Simple_Hash(x, 10))\n"
   ]
  },
  {
   "cell_type": "markdown",
   "metadata": {},
   "source": [
    "___\n",
    "### Linear Probing\n",
    "\n",
    "- h(x) = x % size\n",
    "- h'(x) = (h(x) + i) % size\n",
    "    - where i = 0,1,2,3,.."
   ]
  },
  {
   "cell_type": "code",
   "execution_count": 17,
   "metadata": {},
   "outputs": [
    {
     "name": "stdout",
     "output_type": "stream",
     "text": [
      "[8, 3, 13, 6, 4, 10]\n",
      "[10, None, None, 3, 13, 4, 6, None, 8, None]\n"
     ]
    }
   ],
   "source": [
    "def Linear_Probing(list, size):\n",
    "    hash_table = [None for _ in range(size)]\n",
    "    for i in list:\n",
    "        j = 0\n",
    "        while(hash_table[(i % size + j) % size]!=None):            \n",
    "            j+=1\n",
    "        hash_table[(i % size + j) % size] = i\n",
    "    return hash_table\n",
    "        \n",
    "x = [8, 3, 13, 6, 4, 10]\n",
    "print(x)\n",
    "print(Linear_Probing(x, 10))"
   ]
  },
  {
   "cell_type": "markdown",
   "metadata": {},
   "source": [
    "___\n",
    "### Quadratic Probing\n",
    "\n",
    "- h(x) = x % size\n",
    "- h'(x) = (h(x) + i) % size\n",
    "    - where i = 0, 1², 2², 3², 4² ..."
   ]
  },
  {
   "cell_type": "code",
   "execution_count": 23,
   "metadata": {},
   "outputs": [
    {
     "name": "stdout",
     "output_type": "stream",
     "text": [
      "[8, 3, 13, 23, 43, 10]\n",
      "[10, None, 43, 3, 13, None, None, 23, 8, None]\n"
     ]
    }
   ],
   "source": [
    "def Quadratic_Probing(list, size):\n",
    "    hash_table = [None for _ in range(size)]\n",
    "    for i in list:\n",
    "        j = 0\n",
    "        while(hash_table[(i % size + j**2) % size]!=None):            \n",
    "            j = j+1\n",
    "        hash_table[(i % size + j**2) % size] = i\n",
    "    return hash_table\n",
    "        \n",
    "x = [8, 3, 13, 23, 43, 10]\n",
    "print(x)\n",
    "print(Quadratic_Probing(x, 10))"
   ]
  },
  {
   "cell_type": "markdown",
   "metadata": {},
   "source": [
    "___\n",
    "### Double Hashing\n",
    "\n",
    "- h1(x) = x % size\n",
    "- h2\n",
    "- h'(x) = (h1(x) + j*h2(x)) % size\n",
    "    - where j = 0, 1², 2², 3², 4² ..."
   ]
  },
  {
   "cell_type": "code",
   "execution_count": 14,
   "metadata": {},
   "outputs": [
    {
     "name": "stdout",
     "output_type": "stream",
     "text": [
      "[18, 41, 22, 44]\n",
      "[None, None, 41, None, None, 18, None, None, None, 22, 44, None, None]\n"
     ]
    }
   ],
   "source": [
    "def Double_Hashing(arr, size, prime):\n",
    "    hash_table = [None for i in range(size)]\n",
    "    for num in arr:\n",
    "        k = 0\n",
    "        while hash_table[(num%size + k*(prime - (num%prime)))%size] is not None:\n",
    "            k+=1\n",
    "        hash_table[(num%size + k*(prime - (num%prime)))%size] = num  \n",
    "    \n",
    "    return hash_table\n",
    "\n",
    "x = [18,41,22,44]\n",
    "print(x)\n",
    "print(Double_Hashing(x, 13, 7))\n"
   ]
  }
 ],
 "metadata": {
  "kernelspec": {
   "display_name": "Python 3",
   "language": "python",
   "name": "python3"
  },
  "language_info": {
   "codemirror_mode": {
    "name": "ipython",
    "version": 3
   },
   "file_extension": ".py",
   "mimetype": "text/x-python",
   "name": "python",
   "nbconvert_exporter": "python",
   "pygments_lexer": "ipython3",
   "version": "3.12.4"
  }
 },
 "nbformat": 4,
 "nbformat_minor": 2
}
