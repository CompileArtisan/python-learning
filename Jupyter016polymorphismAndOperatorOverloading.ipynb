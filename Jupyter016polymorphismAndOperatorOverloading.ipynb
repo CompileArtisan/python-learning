{
 "cells": [
  {
   "cell_type": "markdown",
   "metadata": {},
   "source": [
    "#### Name: Praanesh Balakrishnan Nair\n",
    "#### Roll Number: BL.EN.U4AIE23123\n",
    "\n",
    "1.  Implement operator overloading for the + operator in a Python class\n",
    "Vector. The class should represent a 2D vector and the + operator should\n",
    "add the corresponding components of two vectors.\n"
   ]
  },
  {
   "cell_type": "code",
   "execution_count": 10,
   "metadata": {},
   "outputs": [
    {
     "name": "stdout",
     "output_type": "stream",
     "text": [
      "8i + 9j\n"
     ]
    }
   ],
   "source": [
    "class Vector:\n",
    "    def __init__(self, x, y):\n",
    "        self.x = x\n",
    "        self.y = y\n",
    "    \n",
    "    def __add__(self, other):\n",
    "        return(Vector(self.x + other.x ,self.y + other.y))\n",
    "    \n",
    "    def __str__(self):\n",
    "        return f\"{self.x}i + {self.y}j\"\n",
    "\n",
    "if __name__ == \"__main__\":\n",
    "    p1 = Vector(1, 2)\n",
    "    p2 = Vector(7, 7)\n",
    "    p3 = p1 + p2\n",
    "    print(p3)"
   ]
  },
  {
   "cell_type": "markdown",
   "metadata": {},
   "source": [
    "2.  Create a class Book with attributes title and price. Overload the < and >\n",
    "operators to compare the prices of two books."
   ]
  },
  {
   "cell_type": "code",
   "execution_count": 11,
   "metadata": {},
   "outputs": [
    {
     "name": "stdout",
     "output_type": "stream",
     "text": [
      "False\n"
     ]
    }
   ],
   "source": [
    "class Book:\n",
    "    def __init__(self, title, price):\n",
    "        self.title = title\n",
    "        self.price = price\n",
    "    \n",
    "    def __gt__(self, other):\n",
    "        return self.price > other.price\n",
    "    \n",
    "    def __lt__(self, other):\n",
    "        return self.price < other.price\n",
    "    \n",
    "if __name__ == \"__main__\":\n",
    "    b1 = Book(\"Data Structure and Algorithms, 2nd Edition\", 599)\n",
    "    b2 = Book(\"Java: The Complete Reference\", 999)\n",
    "    print(b1 > b2)\n",
    "    "
   ]
  },
  {
   "cell_type": "markdown",
   "metadata": {},
   "source": [
    "\n",
    "3.  Design a base class Payment with a method process_payment().\n",
    "Implement derived classes CreditCardPayment, PayPalPayment, and\n",
    "BitcoinPayment, each overriding the process_payment() method.\n",
    "Demonstrate polymorphism by processing payments through different\n",
    "payment methods using the same interface."
   ]
  },
  {
   "cell_type": "code",
   "execution_count": 14,
   "metadata": {},
   "outputs": [
    {
     "name": "stdout",
     "output_type": "stream",
     "text": [
      "500 credited by Praanesh\n",
      "500 credited by Praanesh\n",
      "500 debited to Praanesh using PayPal\n",
      "500 debited to Praanesh using Bitcoin\n"
     ]
    }
   ],
   "source": [
    "class Payment:\n",
    "    def process_payment(self, credit_or_debit: str, amount: float, name_of_other_person: str):\n",
    "        if credit_or_debit == \"credit\":\n",
    "            return f\"{amount} credited by {name_of_other_person}\"\n",
    "        elif credit_or_debit ==\"debit\":\n",
    "            return f\"{amount} debited to {name_of_other_person}\"\n",
    "        else:\n",
    "            return f\"Payment failed\"\n",
    "\n",
    "class CreditCardPayment(Payment):\n",
    "    def process_payment(self, amount: float, name_of_other_person: str):\n",
    "        return f\"{amount} credited by {name_of_other_person}\"\n",
    "\n",
    "class PayPalPayment(Payment):\n",
    "    def process_payment(self, credit_or_debit: str, amount: float, name_of_other_person: str):\n",
    "        if credit_or_debit == \"credit\":\n",
    "            return f\"{amount} credited by {name_of_other_person} using PayPal\"\n",
    "        elif credit_or_debit ==\"debit\":\n",
    "            return f\"{amount} debited to {name_of_other_person} using PayPal\"\n",
    "        else:\n",
    "            return f\"PayPal Payment failed\"\n",
    "        \n",
    "class BitcoinPayment():\n",
    "    def process_payment(self, credit_or_debit: str, amount: float, name_of_other_person: str):\n",
    "        if credit_or_debit == \"credit\":\n",
    "            return f\"{amount} credited by {name_of_other_person} using Bitcoin\"\n",
    "        elif credit_or_debit ==\"debit\":\n",
    "            return f\"{amount} debited to {name_of_other_person} using Bitcoin\"\n",
    "        else:\n",
    "            return f\"Bitcoin Payment failed\"\n",
    "        \n",
    "if __name__ == \"__main__\":\n",
    "    payment = Payment()\n",
    "    credit_card_payment = CreditCardPayment()\n",
    "    paypal_payment = PayPalPayment()\n",
    "    bitcoin_payment = BitcoinPayment()\n",
    "    \n",
    "    print(payment.process_payment(\"credit\", 500, \"Praanesh\"))\n",
    "    print(credit_card_payment.process_payment(500, \"Praanesh\"))\n",
    "    print(paypal_payment.process_payment(\"debit\", 500, \"Praanesh\"))\n",
    "    print(bitcoin_payment.process_payment(\"debit\", 500, \"Praanesh\"))\n",
    "    \n",
    "    \n",
    "    "
   ]
  },
  {
   "cell_type": "markdown",
   "metadata": {},
   "source": [
    "\n",
    "4.  Create a base class Notifier with a method send_notification(). Implement\n",
    "derived classes EmailNotifier, SMSNotifier, and PushNotifier that override\n",
    "the send_notification() method. Demonstrate polymorphism by sending\n",
    "different types of notifications using the same interface."
   ]
  },
  {
   "cell_type": "code",
   "execution_count": 19,
   "metadata": {},
   "outputs": [
    {
     "name": "stdout",
     "output_type": "stream",
     "text": [
      "Sending notification...\n",
      "Sending email notification...\n",
      "Sending SMS notification...\n",
      "Sending push notification...\n"
     ]
    }
   ],
   "source": [
    "class Notifier:\n",
    "    def send_notification(self):\n",
    "        print(\"Sending notification...\")\n",
    "\n",
    "class EmailNotifier(Notifier):\n",
    "    def send_notification(self):\n",
    "        print(\"Sending email notification...\")\n",
    "\n",
    "class SMSNotifier(Notifier):\n",
    "    def send_notification(self):\n",
    "        print(\"Sending SMS notification...\")\n",
    "\n",
    "class PushNotifier(Notifier):\n",
    "    def send_notification(self):\n",
    "        print(\"Sending push notification...\")\n",
    "\n",
    "if __name__ == \"__main__\":\n",
    "    notifier = Notifier()\n",
    "    email_notifier = EmailNotifier()\n",
    "    sms_notifier = SMSNotifier()\n",
    "    push_notifier = PushNotifier()\n",
    "\n",
    "    notifier.send_notification()\n",
    "    email_notifier.send_notification()\n",
    "    sms_notifier.send_notification()\n",
    "    push_notifier.send_notification()\n"
   ]
  }
 ],
 "metadata": {
  "kernelspec": {
   "display_name": "Python 3",
   "language": "python",
   "name": "python3"
  },
  "language_info": {
   "codemirror_mode": {
    "name": "ipython",
    "version": 3
   },
   "file_extension": ".py",
   "mimetype": "text/x-python",
   "name": "python",
   "nbconvert_exporter": "python",
   "pygments_lexer": "ipython3",
   "version": "3.12.4"
  }
 },
 "nbformat": 4,
 "nbformat_minor": 2
}
