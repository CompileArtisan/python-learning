{
 "cells": [
  {
   "cell_type": "markdown",
   "metadata": {},
   "source": [
    "#### Name: Praanesh Balakrishnan Nair\n",
    "#### Roll No.: BL.EN.U4AIE23123"
   ]
  },
  {
   "cell_type": "markdown",
   "metadata": {},
   "source": [
    "Write a program to create a matrix of size nxn, take user input for the elements of the matrix.\n",
    "\n"
   ]
  },
  {
   "cell_type": "code",
   "execution_count": 2,
   "metadata": {},
   "outputs": [
    {
     "name": "stdout",
     "output_type": "stream",
     "text": [
      "[[1, 0, 0], [0, 1, 0], [0, 0, 1]]\n"
     ]
    }
   ],
   "source": [
    "n = int(input(\"Enter the size of the matrix: \"))\n",
    "A=[[int(input(f\"Enter element A[{j}][{i}] \")) for i in range(n)] for j in range(n)]\n",
    "print(A)"
   ]
  },
  {
   "cell_type": "markdown",
   "metadata": {},
   "source": [
    "1. Count the number of zero elements"
   ]
  },
  {
   "cell_type": "code",
   "execution_count": 3,
   "metadata": {},
   "outputs": [
    {
     "name": "stdout",
     "output_type": "stream",
     "text": [
      "The number of non-zero elements are 6\n"
     ]
    }
   ],
   "source": [
    "zero = 0\n",
    "for i in A:\n",
    "    for j in i:\n",
    "        if j == 0:\n",
    "            zero+=1\n",
    "print(f\"The number of non-zero elements are {zero}\")"
   ]
  },
  {
   "cell_type": "markdown",
   "metadata": {},
   "source": [
    "2. Count the number of non zero elements\n"
   ]
  },
  {
   "cell_type": "code",
   "execution_count": 4,
   "metadata": {},
   "outputs": [
    {
     "name": "stdout",
     "output_type": "stream",
     "text": [
      "The number of non-zero elements are 3\n"
     ]
    }
   ],
   "source": [
    "non_zero = 0\n",
    "for i in A:\n",
    "    for j in i:\n",
    "        if not j == 0:\n",
    "            non_zero+=1\n",
    "print(f\"The number of non-zero elements are {non_zero}\")"
   ]
  },
  {
   "cell_type": "markdown",
   "metadata": {},
   "source": [
    "3. Check if the sparse martrix is a banded matrix (all diagonals are zero)"
   ]
  },
  {
   "cell_type": "code",
   "execution_count": 6,
   "metadata": {},
   "outputs": [
    {
     "name": "stdout",
     "output_type": "stream",
     "text": [
      "The matrix is a banded matrix\n"
     ]
    }
   ],
   "source": [
    "flag = 0\n",
    "for i in range(n):\n",
    "    for j in range(n):\n",
    "        if i-j > 1 or j-i > 1:\n",
    "            if A[i][j] != 0:\n",
    "                flag = 1\n",
    "                break\n",
    "if flag == 1:\n",
    "    print(\"The matrix is not a banded matrix\")\n",
    "else:\n",
    "    print(\"The matrix is a banded matrix\")\n",
    "    \n",
    "        "
   ]
  }
 ],
 "metadata": {
  "kernelspec": {
   "display_name": "Python 3",
   "language": "python",
   "name": "python3"
  },
  "language_info": {
   "codemirror_mode": {
    "name": "ipython",
    "version": 3
   },
   "file_extension": ".py",
   "mimetype": "text/x-python",
   "name": "python",
   "nbconvert_exporter": "python",
   "pygments_lexer": "ipython3",
   "version": "3.12.4"
  }
 },
 "nbformat": 4,
 "nbformat_minor": 2
}
