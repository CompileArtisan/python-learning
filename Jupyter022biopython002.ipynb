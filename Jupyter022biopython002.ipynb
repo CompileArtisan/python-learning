{
 "cells": [
  {
   "cell_type": "code",
   "execution_count": 1,
   "id": "910a5b07-361c-4464-ba77-ca621c627066",
   "metadata": {},
   "outputs": [],
   "source": [
    "from Bio import Entrez, SeqIO\n",
    "Entrez.email = \"varunadhitya.balaji@gmail.com\""
   ]
  },
  {
   "cell_type": "code",
   "execution_count": 2,
   "id": "ca50a3b5-8d32-426c-8d08-eaf3b3538837",
   "metadata": {},
   "outputs": [
    {
     "name": "stdout",
     "output_type": "stream",
     "text": [
      "['102723407', '102724971', '100423062', '96610', '124944']\n"
     ]
    }
   ],
   "source": [
    "nucleotide_search = Entrez.read(Entrez.esearch(db=\"nucleotide\", \n",
    "                                            retmax=5, \n",
    "                                            term=\"sars[Title] AND Homo Sapiens[Organism]\",\n",
    "                                            sort=\"PDAT\"))\n",
    "protein_search = Entrez.read(Entrez.esearch(db=\"protein\", \n",
    "                                            retmax=5, \n",
    "                                            term=\"sars[Title] AND Homo Sapiens[Organism]\",\n",
    "                                            sort=\"PDAT\"))\n",
    "gene_search = Entrez.read(Entrez.esearch(db=\"gene\", \n",
    "                                            retmax=5, \n",
    "                                            term=\"sars[Title] AND Homo Sapiens[Organism]\",\n",
    "                                            sort=\"PDAT\"))\n",
    "\n",
    "nucleotide_IDs = nucleotide_search[\"IdList\"]\n",
    "protein_IDs = protein_search[\"IdList\"]\n",
    "gene_IDs = gene_search[\"IdList\"]"
   ]
  },
  {
   "cell_type": "code",
   "execution_count": 3,
   "id": "da5cdc7a-9d1d-4ff1-8313-6fe282e5ac04",
   "metadata": {},
   "outputs": [
    {
     "name": "stdout",
     "output_type": "stream",
     "text": [
      "Sequence retrival complete\n"
     ]
    }
   ],
   "source": [
    "with open(\"sars_nucleotide.txt\", \"w\") as file:\n",
    "    for ID in nucleotide_IDs:\n",
    "        try:\n",
    "            sequence = Entrez.efetch(db=\"nucleotide\", id=ID, rettype=\"fasta\", retmode=\"text\").read()\n",
    "            file.write(sequence + \"\\n\")\n",
    "        except Exception as e:\n",
    "            print(f\"Error occured with nucleotide ID {ID}: \", e)\n",
    "\n",
    "with open(\"sars_gene.txt\", \"w\") as file:\n",
    "    for ID in gene_IDs:\n",
    "        try:\n",
    "            handle = Entrez.efetch(db=\"gene\", id=\"100423062\", retmode=\"xml\")\n",
    "            record = Entrez.read(handle)\n",
    "            handle.close()\n",
    "            id = record[0]['Entrezgene_locus'][0]['Gene-commentary_accession']\n",
    "            fromS = record[0]['Entrezgene_locus'][0]['Gene-commentary_seqs'][0]['Seq-loc_int']['Seq-interval']['Seq-interval_from']\n",
    "            toS = record[0]['Entrezgene_locus'][0]['Gene-commentary_seqs'][0]['Seq-loc_int']['Seq-interval']['Seq-interval_to']\n",
    "            sequence = Entrez.efetch(db=\"nucleotide\", id=id, rettype=\"fasta\", retmode=\"text\", seq_start=fromS, seq_stop=toS).read()\n",
    "            file.write(sequence + \"\\n\")\n",
    "        except Exception as e:\n",
    "            print(f\"Error occured with gene ID {ID}: \", e)\n",
    "\n",
    "with open(\"sars_protein.txt\", \"w\") as file:\n",
    "    for ID in protein_IDs:\n",
    "        try:\n",
    "            sequence = Entrez.efetch(db=\"protein\", id=ID, rettype=\"fasta\", retmode=\"text\").read()\n",
    "            file.write(sequence + \"\\n\")\n",
    "        except Exception as e:\n",
    "            print(f\"Error occured with protein ID {ID}: \", e)\n",
    "print(\"Sequence retrival complete\")"
   ]
  },
  {
   "cell_type": "raw",
   "id": "0431609e-aa59-4b23-82a5-cd5da26af597",
   "metadata": {},
   "source": [
    "Base pair calculation and ammino acid calculation"
   ]
  },
  {
   "cell_type": "code",
   "execution_count": 4,
   "id": "40479525-d056-419d-ad35-792d156ad426",
   "metadata": {},
   "outputs": [
    {
     "name": "stdout",
     "output_type": "stream",
     "text": [
      "NUCLEOTIDES\n",
      "\n",
      "KJ892087.1 :\n",
      "------------\n",
      "\tNumber of base pairs = 837\n",
      "KJ897518.1 :\n",
      "------------\n",
      "\tNumber of base pairs = 837\n",
      "FU771868.1 :\n",
      "------------\n",
      "\tNumber of base pairs = 172\n",
      "FU771869.1 :\n",
      "------------\n",
      "\tNumber of base pairs = 160\n",
      "FU771870.1 :\n",
      "------------\n",
      "\tNumber of base pairs = 172\n"
     ]
    }
   ],
   "source": [
    "with open(\"sars_nucleotide.txt\") as file:\n",
    "    print(\"NUCLEOTIDES\")\n",
    "    print()\n",
    "    for seq in SeqIO.parse(file, 'fasta'):\n",
    "        print(seq.id, \":\")\n",
    "        print(\"-\"*len(seq.id) + \"--\")\n",
    "        lengthOfSeq = len(seq.seq)\n",
    "        print(f\"\\tNumber of base pairs = {lengthOfSeq//2}\")"
   ]
  },
  {
   "cell_type": "code",
   "execution_count": 5,
   "id": "76bf8475-cf2e-428d-ac3f-74ff6a4be320",
   "metadata": {},
   "outputs": [
    {
     "name": "stdout",
     "output_type": "stream",
     "text": [
      "NUCLEOTIDES\n",
      "\n",
      "NC_000022.11:22887815-22896110 :\n",
      "--------------------------------\n",
      "\tNumber of base pairs = 4148\n",
      "NC_000022.11:22887815-22896110 :\n",
      "--------------------------------\n",
      "\tNumber of base pairs = 4148\n",
      "NC_000022.11:22887815-22896110 :\n",
      "--------------------------------\n",
      "\tNumber of base pairs = 4148\n",
      "NC_000022.11:22887815-22896110 :\n",
      "--------------------------------\n",
      "\tNumber of base pairs = 4148\n",
      "NC_000022.11:22887815-22896110 :\n",
      "--------------------------------\n",
      "\tNumber of base pairs = 4148\n"
     ]
    }
   ],
   "source": [
    "with open(\"sars_gene.txt\") as file:\n",
    "    print(\"NUCLEOTIDES\")\n",
    "    print()\n",
    "    for seq in SeqIO.parse(file, 'fasta'):\n",
    "        print(seq.id, \":\")\n",
    "        print(\"-\"*len(seq.id) + \"--\")\n",
    "        lengthOfSeq = len(seq.seq)\n",
    "        print(f\"\\tNumber of base pairs = {lengthOfSeq//2}\")"
   ]
  },
  {
   "cell_type": "code",
   "execution_count": 6,
   "id": "23d7d8b7-b38a-4f9b-9265-e332b65e645e",
   "metadata": {},
   "outputs": [
    {
     "name": "stdout",
     "output_type": "stream",
     "text": [
      "NUCLEOTIDES\n",
      "\n",
      "AAI11399.1 :\n",
      "------------\n",
      "\tNumber of amino acids = 511\n",
      "AAX19355.1 :\n",
      "------------\n",
      "\tNumber of amino acids = 108\n",
      "AAX19356.1 :\n",
      "------------\n",
      "\tNumber of amino acids = 127\n"
     ]
    }
   ],
   "source": [
    "with open(\"sars_protein.txt\") as file:\n",
    "    print(\"NUCLEOTIDES\")\n",
    "    print()\n",
    "    for seq in SeqIO.parse(file, 'fasta'):\n",
    "        print(seq.id, \":\")\n",
    "        print(\"-\"*len(seq.id) + \"--\")\n",
    "        lengthOfSeq = len(seq.seq)\n",
    "        print(f\"\\tNumber of amino acids = {lengthOfSeq}\")"
   ]
  }
 ],
 "metadata": {
  "kernelspec": {
   "display_name": "Python 3 (ipykernel)",
   "language": "python",
   "name": "python3"
  },
  "language_info": {
   "codemirror_mode": {
    "name": "ipython",
    "version": 3
   },
   "file_extension": ".py",
   "mimetype": "text/x-python",
   "name": "python",
   "nbconvert_exporter": "python",
   "pygments_lexer": "ipython3",
   "version": "3.12.5"
  }
 },
 "nbformat": 4,
 "nbformat_minor": 5
}
