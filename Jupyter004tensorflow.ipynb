{
 "cells": [
  {
   "cell_type": "markdown",
   "metadata": {},
   "source": [
    "#### tf.concat()\n",
    "        tf.concat(list of tensors to concatenate, axis, name='concat')\n",
    "'axis' is basically the axis along which concatenation occurs.\n",
    "- If axis = 0, concatenation occurs along rows (x axis)\n",
    "```bash\n",
    "Example:       Tensor 1:       Tensor 2:       Concatenated:\n",
    "              [[1, 2, 3],     [[ 7,  8,  9],  [[ 1,  2,  3],\n",
    "               [4, 5, 6]]      [10, 11, 12]]   [ 4,  5,  6],\n",
    "                                               [ 7,  8,  9],\n",
    "                                               [10, 11, 12]]\n",
    "```\n",
    "- If axis = 1, concatenation occurs along columns (y axis)\n",
    "```bash\n",
    "Example:       Tensor 1:       Tensor 2:       Concatenated:\n",
    "              [[1, 2, 3],     [[ 7,  8,  9],  [[ 1,  2,  3,  7,  8,  9],\n",
    "               [4, 5, 6]]      [10, 11, 12]]   [ 4,  5,  6, 10, 11, 12]]\n",
    "```\n"
   ]
  }
 ],
 "metadata": {
  "language_info": {
   "name": "python"
  }
 },
 "nbformat": 4,
 "nbformat_minor": 2
}
