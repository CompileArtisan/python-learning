{
 "cells": [
  {
   "cell_type": "markdown",
   "metadata": {},
   "source": [
    "1. Construct dictionary from the given list."
   ]
  },
  {
   "cell_type": "code",
   "execution_count": 8,
   "metadata": {},
   "outputs": [
    {
     "name": "stdout",
     "output_type": "stream",
     "text": [
      "{'John': 20, 'jay': 25, 'Anusha': 30}\n",
      "20\n",
      "25\n",
      "30\n"
     ]
    }
   ],
   "source": [
    "Name = [\"John\", \"jay\", \"Anusha\"]\n",
    "Age = [20, 25, 30]\n",
    "Details = zip(Name, Age)\n",
    "details = dict(Details)\n",
    "\n",
    "print(details, end=\"\\n\\n\")\n",
    "\n",
    "for i in details.keys():\n",
    "    print(details[i])"
   ]
  },
  {
   "cell_type": "markdown",
   "metadata": {},
   "source": [
    "2. Write a python program where given two lists identify the pairs for which sum is even"
   ]
  },
  {
   "cell_type": "code",
   "execution_count": 26,
   "metadata": {},
   "outputs": [],
   "source": [
    "list1 = [1, 2, 3, 4]\n",
    "list2 = [10, 11, 12, 14]"
   ]
  },
  {
   "cell_type": "code",
   "execution_count": 27,
   "metadata": {},
   "outputs": [
    {
     "name": "stdout",
     "output_type": "stream",
     "text": [
      "[False, False, False, True]\n"
     ]
    }
   ],
   "source": [
    "# Method 1\n",
    "sum_is_even = lambda x, y: (x + y) % 2 == 0\n",
    "print(list(map(sum_is_even, list1, list2)))"
   ]
  },
  {
   "cell_type": "code",
   "execution_count": 28,
   "metadata": {},
   "outputs": [
    {
     "name": "stdout",
     "output_type": "stream",
     "text": [
      "[11, 13, 15, 18]\n",
      "[18]\n"
     ]
    }
   ],
   "source": [
    "# Method 2 \n",
    "result = [x + y for x, y in zip(list1, list2)]\n",
    "print(result)\n",
    "sum_is_even = lambda x: x % 2 == 0\n",
    "print(list(filter(sum_is_even, result)))"
   ]
  }
 ],
 "metadata": {
  "kernelspec": {
   "display_name": "Python 3",
   "language": "python",
   "name": "python3"
  },
  "language_info": {
   "codemirror_mode": {
    "name": "ipython",
    "version": 3
   },
   "file_extension": ".py",
   "mimetype": "text/x-python",
   "name": "python",
   "nbconvert_exporter": "python",
   "pygments_lexer": "ipython3",
   "version": "3.12.4"
  }
 },
 "nbformat": 4,
 "nbformat_minor": 2
}
