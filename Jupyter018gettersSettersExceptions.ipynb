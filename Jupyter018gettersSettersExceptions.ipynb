{
 "cells": [
  {
   "cell_type": "markdown",
   "metadata": {},
   "source": [
    "#### Name: Praanesh Balakrishnan Nair\n",
    "#### Roll Number: BL.EN.U4AIE23123"
   ]
  },
  {
   "cell_type": "markdown",
   "metadata": {},
   "source": [
    "1. Create a class BankAccount with a private attribute balance. Implement\n",
    "setter and getter methods to modify and access the balance, ensuring\n",
    "that the balance cannot be set to a negative value using exceptions.\n"
   ]
  },
  {
   "cell_type": "code",
   "execution_count": 11,
   "metadata": {},
   "outputs": [
    {
     "name": "stdout",
     "output_type": "stream",
     "text": [
      "Balance: 900\n"
     ]
    },
    {
     "ename": "NegativeBalance",
     "evalue": "Balance was given a negative value.",
     "output_type": "error",
     "traceback": [
      "\u001b[1;31m---------------------------------------------------------------------------\u001b[0m",
      "\u001b[1;31mNegativeBalance\u001b[0m                           Traceback (most recent call last)",
      "Cell \u001b[1;32mIn[11], line 33\u001b[0m\n\u001b[0;32m     30\u001b[0m     \u001b[38;5;28;01mpass\u001b[39;00m\n\u001b[0;32m     32\u001b[0m \u001b[38;5;28;01mif\u001b[39;00m \u001b[38;5;18m__name__\u001b[39m \u001b[38;5;241m==\u001b[39m \u001b[38;5;124m\"\u001b[39m\u001b[38;5;124m__main__\u001b[39m\u001b[38;5;124m\"\u001b[39m:\n\u001b[1;32m---> 33\u001b[0m     \u001b[43mmain\u001b[49m\u001b[43m(\u001b[49m\u001b[43m)\u001b[49m\n",
      "Cell \u001b[1;32mIn[11], line 6\u001b[0m, in \u001b[0;36mmain\u001b[1;34m()\u001b[0m\n\u001b[0;32m      3\u001b[0m acc1\u001b[38;5;241m.\u001b[39mbalance \u001b[38;5;241m=\u001b[39m \u001b[38;5;241m900\u001b[39m\n\u001b[0;32m      4\u001b[0m \u001b[38;5;28mprint\u001b[39m(acc1\u001b[38;5;241m.\u001b[39mbalance)\n\u001b[1;32m----> 6\u001b[0m \u001b[43macc1\u001b[49m\u001b[38;5;241;43m.\u001b[39;49m\u001b[43mbalance\u001b[49m \u001b[38;5;241m=\u001b[39m \u001b[38;5;241m-\u001b[39m\u001b[38;5;241m100\u001b[39m\n\u001b[0;32m      7\u001b[0m \u001b[38;5;28mprint\u001b[39m(acc1\u001b[38;5;241m.\u001b[39mbalance)\n",
      "Cell \u001b[1;32mIn[11], line 22\u001b[0m, in \u001b[0;36mBankAccount.balance\u001b[1;34m(self, balance)\u001b[0m\n\u001b[0;32m     19\u001b[0m \u001b[38;5;129m@balance\u001b[39m\u001b[38;5;241m.\u001b[39msetter\n\u001b[0;32m     20\u001b[0m \u001b[38;5;28;01mdef\u001b[39;00m \u001b[38;5;21mbalance\u001b[39m(\u001b[38;5;28mself\u001b[39m, balance):\n\u001b[0;32m     21\u001b[0m     \u001b[38;5;28;01mif\u001b[39;00m balance\u001b[38;5;241m<\u001b[39m\u001b[38;5;241m0\u001b[39m:\n\u001b[1;32m---> 22\u001b[0m         \u001b[38;5;28;01mraise\u001b[39;00m NegativeBalance(\u001b[38;5;124m\"\u001b[39m\u001b[38;5;124mBalance was given a negative value.\u001b[39m\u001b[38;5;124m\"\u001b[39m)\n\u001b[0;32m     23\u001b[0m     \u001b[38;5;28;01melse\u001b[39;00m:\n\u001b[0;32m     24\u001b[0m         \u001b[38;5;28mself\u001b[39m\u001b[38;5;241m.\u001b[39m_balance \u001b[38;5;241m=\u001b[39m balance\n",
      "\u001b[1;31mNegativeBalance\u001b[0m: Balance was given a negative value."
     ]
    }
   ],
   "source": [
    "def main():\n",
    "    acc1 = BankAccount()\n",
    "    acc1.balance = 900\n",
    "    print(acc1.balance)\n",
    "    \n",
    "    acc1.balance = -100\n",
    "    print(acc1.balance)\n",
    "    \n",
    "    \n",
    "\n",
    "class BankAccount:\n",
    "    def __init__(self, balance = 0):\n",
    "        self.balance = balance\n",
    "        \n",
    "    @property\n",
    "    def balance(self):\n",
    "        return f\"Balance: {self._balance}\"\n",
    "    \n",
    "    @balance.setter\n",
    "    def balance(self, balance):\n",
    "        if balance<0:\n",
    "            raise NegativeBalance(\"Balance was given a negative value.\")\n",
    "        else:\n",
    "            self._balance = balance\n",
    "    \n",
    "        \n",
    "        \n",
    "class NegativeBalance(Exception):\n",
    "    '''When the balance is negative'''\n",
    "    pass\n",
    "        \n",
    "if __name__ == \"__main__\":\n",
    "    main()"
   ]
  },
  {
   "cell_type": "markdown",
   "metadata": {},
   "source": [
    "2. Write a Python function divide(a, b) that divides two numbers. Use\n",
    "exception handling to manage division by zero, invalid input types, and\n",
    "return appropriate error messages.\n"
   ]
  },
  {
   "cell_type": "code",
   "execution_count": null,
   "metadata": {},
   "outputs": [
    {
     "name": "stdout",
     "output_type": "stream",
     "text": [
      "0.8\n",
      "Bad move! Dividing by zero is annoying\n",
      "None\n"
     ]
    }
   ],
   "source": [
    "def main():\n",
    "    print(divide(4,5))\n",
    "    print(divide(9,0))\n",
    "\n",
    "def divide(a, b):\n",
    "    try:\n",
    "        return a/b\n",
    "    except ZeroDivisionError:\n",
    "        print(\"Bad move! Dividing by zero is annoying\")\n",
    "    \n",
    "\n",
    "if __name__ == \"__main__\":\n",
    "    main()"
   ]
  },
  {
   "cell_type": "markdown",
   "metadata": {},
   "source": [
    "3. Write a python program class Car use getter and setter methods to\n",
    "manage the attributes speed and fuel_level. Ensure that speed can only be\n",
    "set to a positive integer, and fuel_level must be within the range 0 to\n",
    "100.0\n"
   ]
  },
  {
   "cell_type": "code",
   "execution_count": 16,
   "metadata": {},
   "outputs": [
    {
     "name": "stdout",
     "output_type": "stream",
     "text": [
      "160\n",
      "75\n"
     ]
    },
    {
     "ename": "Exception",
     "evalue": "Incorrect Fuel Level",
     "output_type": "error",
     "traceback": [
      "\u001b[1;31m---------------------------------------------------------------------------\u001b[0m",
      "\u001b[1;31mException\u001b[0m                                 Traceback (most recent call last)",
      "Cell \u001b[1;32mIn[16], line 45\u001b[0m\n\u001b[0;32m     42\u001b[0m             \u001b[38;5;28mself\u001b[39m\u001b[38;5;241m.\u001b[39m_fuel_level \u001b[38;5;241m=\u001b[39m fuel_level\n\u001b[0;32m     44\u001b[0m \u001b[38;5;28;01mif\u001b[39;00m \u001b[38;5;18m__name__\u001b[39m \u001b[38;5;241m==\u001b[39m \u001b[38;5;124m\"\u001b[39m\u001b[38;5;124m__main__\u001b[39m\u001b[38;5;124m\"\u001b[39m:\n\u001b[1;32m---> 45\u001b[0m     \u001b[43mmain\u001b[49m\u001b[43m(\u001b[49m\u001b[43m)\u001b[49m\n",
      "Cell \u001b[1;32mIn[16], line 10\u001b[0m, in \u001b[0;36mmain\u001b[1;34m()\u001b[0m\n\u001b[0;32m      8\u001b[0m c2 \u001b[38;5;241m=\u001b[39m Car()\n\u001b[0;32m      9\u001b[0m c2\u001b[38;5;241m.\u001b[39mspeed \u001b[38;5;241m=\u001b[39m \u001b[38;5;241m160\u001b[39m\n\u001b[1;32m---> 10\u001b[0m \u001b[43mc2\u001b[49m\u001b[38;5;241;43m.\u001b[39;49m\u001b[43mfuel_level\u001b[49m \u001b[38;5;241m=\u001b[39m \u001b[38;5;241m205\u001b[39m\n\u001b[0;32m     11\u001b[0m \u001b[38;5;28mprint\u001b[39m(c2\u001b[38;5;241m.\u001b[39mspeed)\n\u001b[0;32m     12\u001b[0m \u001b[38;5;28mprint\u001b[39m(c2\u001b[38;5;241m.\u001b[39mfuel_level)\n",
      "Cell \u001b[1;32mIn[16], line 40\u001b[0m, in \u001b[0;36mCar.fuel_level\u001b[1;34m(self, fuel_level)\u001b[0m\n\u001b[0;32m     37\u001b[0m \u001b[38;5;129m@fuel_level\u001b[39m\u001b[38;5;241m.\u001b[39msetter\n\u001b[0;32m     38\u001b[0m \u001b[38;5;28;01mdef\u001b[39;00m \u001b[38;5;21mfuel_level\u001b[39m(\u001b[38;5;28mself\u001b[39m, fuel_level):\n\u001b[0;32m     39\u001b[0m     \u001b[38;5;28;01mif\u001b[39;00m fuel_level\u001b[38;5;241m<\u001b[39m\u001b[38;5;241m0\u001b[39m \u001b[38;5;129;01mor\u001b[39;00m fuel_level\u001b[38;5;241m>\u001b[39m\u001b[38;5;241m100\u001b[39m:\n\u001b[1;32m---> 40\u001b[0m         \u001b[38;5;28;01mraise\u001b[39;00m \u001b[38;5;167;01mException\u001b[39;00m(\u001b[38;5;124m\"\u001b[39m\u001b[38;5;124mIncorrect Fuel Level\u001b[39m\u001b[38;5;124m\"\u001b[39m)\n\u001b[0;32m     41\u001b[0m     \u001b[38;5;28;01melse\u001b[39;00m:\n\u001b[0;32m     42\u001b[0m         \u001b[38;5;28mself\u001b[39m\u001b[38;5;241m.\u001b[39m_fuel_level \u001b[38;5;241m=\u001b[39m fuel_level\n",
      "\u001b[1;31mException\u001b[0m: Incorrect Fuel Level"
     ]
    }
   ],
   "source": [
    "def main():\n",
    "    c1 = Car()\n",
    "    c1.speed = 160\n",
    "    c1.fuel_level = 75\n",
    "    print(c1.speed)\n",
    "    print(c1.fuel_level)\n",
    "    \n",
    "    c2 = Car()\n",
    "    c2.speed = 160\n",
    "    c2.fuel_level = 205\n",
    "    print(c2.speed)\n",
    "    print(c2.fuel_level)\n",
    "    \n",
    "    \n",
    "\n",
    "    \n",
    "class Car:\n",
    "    def __init__(self, speed=0, fuel_level=0):\n",
    "        self.speed = speed\n",
    "        self.fuel_level = fuel_level\n",
    "        \n",
    "    @property\n",
    "    def speed(self):\n",
    "        return self._speed\n",
    "    \n",
    "    @speed.setter\n",
    "    def speed(self, speed):\n",
    "        if speed<0:\n",
    "            raise Exception(\"Speed input was not positive\")\n",
    "        else:\n",
    "            self._speed = speed\n",
    "            \n",
    "    @property\n",
    "    def fuel_level(self):\n",
    "        return self._fuel_level\n",
    "    \n",
    "    @fuel_level.setter\n",
    "    def fuel_level(self, fuel_level):\n",
    "        if fuel_level<0 or fuel_level>100:\n",
    "            raise Exception(\"Incorrect Fuel Level\")\n",
    "        else:\n",
    "            self._fuel_level = fuel_level\n",
    "            \n",
    "if __name__ == \"__main__\":\n",
    "    main()"
   ]
  },
  {
   "cell_type": "markdown",
   "metadata": {},
   "source": [
    "4. Write a Python class Temperature that has a private attribute _celsius.\n",
    "Implement getter and setter methods to convert the temperature to and\n",
    "from Fahrenheit.\n"
   ]
  },
  {
   "cell_type": "code",
   "execution_count": 22,
   "metadata": {},
   "outputs": [
    {
     "name": "stdout",
     "output_type": "stream",
     "text": [
      "212.0\n"
     ]
    }
   ],
   "source": [
    "def main():\n",
    "    t = Temperature()\n",
    "    t.celcius = 100\n",
    "    print(t.fahrenheit)\n",
    "\n",
    "class Temperature:\n",
    "    def __init__(self):\n",
    "        self.celcius = -40\n",
    "        self.fahrenheit = -40\n",
    "        \n",
    "    @property\n",
    "    def celcius(self):\n",
    "        return self._celcius\n",
    "    \n",
    "    @celcius.setter\n",
    "    def celcius(self, celcius):\n",
    "        self._celcius = celcius\n",
    "        self._fahrenheit = (self._celcius * 1.8) + 32\n",
    "            \n",
    "    @property\n",
    "    def fahrenheit(self):\n",
    "        return self._fahrenheit\n",
    "    \n",
    "    @fahrenheit.setter\n",
    "    def fahrenheit(self, fahrenheit):\n",
    "        self._fahrenheit = fahrenheit\n",
    "        self._celcius = (self._fahrenheit - 32) * 5 / 9\n",
    "    \n",
    "if __name__ == \"__main__\":\n",
    "    main()"
   ]
  },
  {
   "cell_type": "markdown",
   "metadata": {},
   "source": [
    "5. Write a function square_root that computes the square root of a number.\n",
    "Use an assert statement to ensure that the input is a non-negative\n",
    "number.\n"
   ]
  },
  {
   "cell_type": "code",
   "execution_count": 24,
   "metadata": {},
   "outputs": [
    {
     "name": "stdout",
     "output_type": "stream",
     "text": [
      "2.0\n",
      "2.23606797749979\n",
      "-5 is a negative number\n"
     ]
    },
    {
     "ename": "AssertionError",
     "evalue": "None",
     "output_type": "error",
     "traceback": [
      "\u001b[1;31m---------------------------------------------------------------------------\u001b[0m",
      "\u001b[1;31mAssertionError\u001b[0m                            Traceback (most recent call last)",
      "Cell \u001b[1;32mIn[24], line 12\u001b[0m\n\u001b[0;32m      9\u001b[0m     \u001b[38;5;28;01mreturn\u001b[39;00m x\u001b[38;5;241m*\u001b[39m\u001b[38;5;241m*\u001b[39m\u001b[38;5;241m0.5\u001b[39m\n\u001b[0;32m     11\u001b[0m \u001b[38;5;28;01mif\u001b[39;00m \u001b[38;5;18m__name__\u001b[39m \u001b[38;5;241m==\u001b[39m \u001b[38;5;124m\"\u001b[39m\u001b[38;5;124m__main__\u001b[39m\u001b[38;5;124m\"\u001b[39m:\n\u001b[1;32m---> 12\u001b[0m     \u001b[43mmain\u001b[49m\u001b[43m(\u001b[49m\u001b[43m)\u001b[49m\n",
      "Cell \u001b[1;32mIn[24], line 4\u001b[0m, in \u001b[0;36mmain\u001b[1;34m()\u001b[0m\n\u001b[0;32m      2\u001b[0m \u001b[38;5;28mprint\u001b[39m(square_root(\u001b[38;5;241m4\u001b[39m))\n\u001b[0;32m      3\u001b[0m \u001b[38;5;28mprint\u001b[39m(square_root(\u001b[38;5;241m5\u001b[39m))\n\u001b[1;32m----> 4\u001b[0m \u001b[38;5;28mprint\u001b[39m(\u001b[43msquare_root\u001b[49m\u001b[43m(\u001b[49m\u001b[38;5;241;43m-\u001b[39;49m\u001b[38;5;241;43m5\u001b[39;49m\u001b[43m)\u001b[49m)\n",
      "Cell \u001b[1;32mIn[24], line 8\u001b[0m, in \u001b[0;36msquare_root\u001b[1;34m(x)\u001b[0m\n\u001b[0;32m      7\u001b[0m \u001b[38;5;28;01mdef\u001b[39;00m \u001b[38;5;21msquare_root\u001b[39m(x):\n\u001b[1;32m----> 8\u001b[0m     \u001b[38;5;28;01massert\u001b[39;00m x\u001b[38;5;241m>\u001b[39m\u001b[38;5;241m=\u001b[39m\u001b[38;5;241m0\u001b[39m , \u001b[38;5;28mprint\u001b[39m(\u001b[38;5;124mf\u001b[39m\u001b[38;5;124m\"\u001b[39m\u001b[38;5;132;01m{\u001b[39;00mx\u001b[38;5;132;01m}\u001b[39;00m\u001b[38;5;124m is a negative number\u001b[39m\u001b[38;5;124m\"\u001b[39m)\n\u001b[0;32m      9\u001b[0m     \u001b[38;5;28;01mreturn\u001b[39;00m x\u001b[38;5;241m*\u001b[39m\u001b[38;5;241m*\u001b[39m\u001b[38;5;241m0.5\u001b[39m\n",
      "\u001b[1;31mAssertionError\u001b[0m: None"
     ]
    }
   ],
   "source": [
    "def main():\n",
    "    print(square_root(4))\n",
    "    print(square_root(5))\n",
    "    print(square_root(-5))\n",
    "    \n",
    "\n",
    "def square_root(x):\n",
    "    assert x>=0 , print(f\"{x} is a negative number\")\n",
    "    return x**0.5\n",
    "\n",
    "if __name__ == \"__main__\":\n",
    "    main()"
   ]
  },
  {
   "cell_type": "markdown",
   "metadata": {},
   "source": [
    "6. Write a function process_transaction that takes an account balance and a\n",
    "transaction amount. Use a combination of assert, raise, and a custom\n",
    "exception NegativeTransactionError to ensure:\n",
    "The transaction amount is not negative (raise NegativeTransactionError if\n",
    "it is).\n",
    "The balance after the transaction is not negative (raise a ValueError if it is)."
   ]
  },
  {
   "cell_type": "code",
   "execution_count": 29,
   "metadata": {},
   "outputs": [
    {
     "name": "stdout",
     "output_type": "stream",
     "text": [
      "Initial Account Balance: 1000\n",
      "Transaction Amount: 100\n"
     ]
    },
    {
     "ename": "AssertionError",
     "evalue": "<class '__main__.NegativeTransactionError'>",
     "output_type": "error",
     "traceback": [
      "\u001b[1;31m---------------------------------------------------------------------------\u001b[0m",
      "\u001b[1;31mAssertionError\u001b[0m                            Traceback (most recent call last)",
      "Cell \u001b[1;32mIn[29], line 18\u001b[0m\n\u001b[0;32m     15\u001b[0m     \u001b[38;5;28;01mpass\u001b[39;00m\n\u001b[0;32m     17\u001b[0m \u001b[38;5;28;01mif\u001b[39;00m \u001b[38;5;18m__name__\u001b[39m \u001b[38;5;241m==\u001b[39m \u001b[38;5;124m\"\u001b[39m\u001b[38;5;124m__main__\u001b[39m\u001b[38;5;124m\"\u001b[39m:\n\u001b[1;32m---> 18\u001b[0m     \u001b[43mmain\u001b[49m\u001b[43m(\u001b[49m\u001b[43m)\u001b[49m\n",
      "Cell \u001b[1;32mIn[29], line 3\u001b[0m, in \u001b[0;36mmain\u001b[1;34m()\u001b[0m\n\u001b[0;32m      1\u001b[0m \u001b[38;5;28;01mdef\u001b[39;00m \u001b[38;5;21mmain\u001b[39m():\n\u001b[0;32m      2\u001b[0m     process_transaction(\u001b[38;5;241m1000\u001b[39m, \u001b[38;5;241m100\u001b[39m)\n\u001b[1;32m----> 3\u001b[0m     \u001b[43mprocess_transaction\u001b[49m\u001b[43m(\u001b[49m\u001b[38;5;241;43m100\u001b[39;49m\u001b[43m,\u001b[49m\u001b[43m \u001b[49m\u001b[38;5;241;43m-\u001b[39;49m\u001b[38;5;241;43m1\u001b[39;49m\u001b[43m)\u001b[49m\n",
      "Cell \u001b[1;32mIn[29], line 7\u001b[0m, in \u001b[0;36mprocess_transaction\u001b[1;34m(account_balance, transaction_amount)\u001b[0m\n\u001b[0;32m      6\u001b[0m \u001b[38;5;28;01mdef\u001b[39;00m \u001b[38;5;21mprocess_transaction\u001b[39m(account_balance\u001b[38;5;241m=\u001b[39m\u001b[38;5;241m0\u001b[39m, transaction_amount\u001b[38;5;241m=\u001b[39m\u001b[38;5;241m0\u001b[39m):\n\u001b[1;32m----> 7\u001b[0m     \u001b[38;5;28;01massert\u001b[39;00m transaction_amount \u001b[38;5;241m>\u001b[39m\u001b[38;5;241m=\u001b[39m \u001b[38;5;241m0\u001b[39m, NegativeTransactionError\n\u001b[0;32m      8\u001b[0m     \u001b[38;5;28;01massert\u001b[39;00m account_balance \u001b[38;5;241m-\u001b[39m transaction_amount \u001b[38;5;241m>\u001b[39m\u001b[38;5;241m=\u001b[39m\u001b[38;5;241m0\u001b[39m, \u001b[38;5;167;01mValueError\u001b[39;00m\n\u001b[0;32m      9\u001b[0m     \u001b[38;5;28mprint\u001b[39m(\u001b[38;5;124mf\u001b[39m\u001b[38;5;124m\"\u001b[39m\u001b[38;5;124mInitial Account Balance: \u001b[39m\u001b[38;5;132;01m{\u001b[39;00maccount_balance\u001b[38;5;132;01m}\u001b[39;00m\u001b[38;5;130;01m\\n\u001b[39;00m\u001b[38;5;124mTransaction Amount: \u001b[39m\u001b[38;5;132;01m{\u001b[39;00mtransaction_amount\u001b[38;5;132;01m}\u001b[39;00m\u001b[38;5;124m\"\u001b[39m)\n",
      "\u001b[1;31mAssertionError\u001b[0m: <class '__main__.NegativeTransactionError'>"
     ]
    }
   ],
   "source": [
    "def main():\n",
    "    process_transaction(1000, 100)\n",
    "    process_transaction(100, -1)\n",
    "    \n",
    "\n",
    "def process_transaction(account_balance=0, transaction_amount=0):\n",
    "    assert transaction_amount >= 0, NegativeTransactionError\n",
    "    assert account_balance - transaction_amount >=0, ValueError\n",
    "    print(f\"Initial Account Balance: {account_balance}\\nTransaction Amount: {transaction_amount}\")\n",
    "    \n",
    "    \n",
    "    \n",
    "class NegativeTransactionError:\n",
    "    \"transaction_amount was given a negative value\"\n",
    "    pass\n",
    "\n",
    "if __name__ == \"__main__\":\n",
    "    main()"
   ]
  }
 ],
 "metadata": {
  "kernelspec": {
   "display_name": "Python 3",
   "language": "python",
   "name": "python3"
  },
  "language_info": {
   "codemirror_mode": {
    "name": "ipython",
    "version": 3
   },
   "file_extension": ".py",
   "mimetype": "text/x-python",
   "name": "python",
   "nbconvert_exporter": "python",
   "pygments_lexer": "ipython3",
   "version": "3.12.4"
  }
 },
 "nbformat": 4,
 "nbformat_minor": 2
}
