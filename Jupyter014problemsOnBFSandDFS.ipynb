{
 "cells": [
  {
   "cell_type": "markdown",
   "metadata": {},
   "source": [
    "#### Name: Praanesh Balakrishnan Nair\n",
    "#### Roll No. BL.EN.U4AIE23123\n"
   ]
  },
  {
   "cell_type": "markdown",
   "metadata": {},
   "source": [
    "1. For the given tree apply the BFS algorithm to calculate the time and space \n",
    "complexity required in order to reach node K. Compare the same with DFS. <br><br>\n"
   ]
  },
  {
   "cell_type": "code",
   "execution_count": 85,
   "metadata": {},
   "outputs": [
    {
     "name": "stdout",
     "output_type": "stream",
     "text": [
      "A S C D B E F G H ((K)) I \n",
      "\n",
      "S B H G I A D C F E ((K)) \n",
      "\n"
     ]
    }
   ],
   "source": [
    "from Python032graphs006breadthFirstSearch import breadthFirstSearch\n",
    "from Python033graphs007depthFirstSearch import depthFirstSearch\n",
    "from Python029graphs003adjacencyList import Graph\n",
    "\n",
    "graph = Graph(['S','A','B','C','D', 'G','H','E','F','I','K'])\n",
    "graph.add_edge('S','A')\n",
    "graph.add_edge('S','B')\n",
    "graph.add_edge('A','C')\n",
    "graph.add_edge('A','D')\n",
    "graph.add_edge('B','G')\n",
    "graph.add_edge('B','H')\n",
    "graph.add_edge('C','E')\n",
    "graph.add_edge('C','F')\n",
    "graph.add_edge('G','I')\n",
    "graph.add_edge('E','K')\n",
    "\n",
    "\n",
    "bfs=breadthFirstSearch(graph.graph, 'A')\n",
    "for i in bfs:\n",
    "    if i == 'K':\n",
    "        print(f\"(({i}))\", end=' ')\n",
    "    else:\n",
    "        print(i, end=' ')\n",
    "\n",
    "\n",
    "print();print()\n",
    "\n",
    "\n",
    "Dfs=depthFirstSearch(graph.graph, 'S')\n",
    "for i in Dfs:\n",
    "    if i == 'K':\n",
    "        print(f\"(({i}))\", end=' ')\n",
    "    else:\n",
    "        print(i, end=' ')\n",
    "\n",
    "print();print()\n",
    "\n",
    "\n",
    "\n",
    "\n",
    "\n"
   ]
  },
  {
   "cell_type": "code",
   "execution_count": 86,
   "metadata": {},
   "outputs": [
    {
     "name": "stdout",
     "output_type": "stream",
     "text": [
      "BFS Time Complexity: O(11 + 10)\n",
      "BFS Space Complexity: O(11)\n",
      "DFS Time Complexity: O(11 + 10)\n",
      "DFS Space Complexity: O(11)\n"
     ]
    }
   ],
   "source": [
    "V = list(graph.graph.keys()).index('K') + 1\n",
    "E = 10\n",
    "print(f\"BFS Time Complexity: O({V} + {E})\")\n",
    "print(f\"BFS Space Complexity: O({V})\")\n",
    "print(f\"DFS Time Complexity: O({V} + {E})\")\n",
    "print(f\"DFS Space Complexity: O({V})\")"
   ]
  },
  {
   "cell_type": "markdown",
   "metadata": {},
   "source": [
    "2. For the given tree apply the DFS algorithm to calculate the time and space \n",
    "complexity required in order to reach node G. Compare the same with BFS. <br><br>\n"
   ]
  },
  {
   "cell_type": "code",
   "execution_count": 87,
   "metadata": {},
   "outputs": [
    {
     "name": "stdout",
     "output_type": "stream",
     "text": [
      "S A H B C I J D E ((G)) K \n",
      "\n",
      "S H J I K A C ((G)) B E D "
     ]
    }
   ],
   "source": [
    "graph = Graph(['S','A','H','B','C','I','J','D','E','G','K'])\n",
    "graph.add_edge('S','A')\n",
    "graph.add_edge('S','H')\n",
    "graph.add_edge('A','B')\n",
    "graph.add_edge('A','C')\n",
    "graph.add_edge('H','I')\n",
    "graph.add_edge('H','J')\n",
    "graph.add_edge('B','D')\n",
    "graph.add_edge('B','E')\n",
    "graph.add_edge('C','G')\n",
    "graph.add_edge('I','K')\n",
    "bfs=breadthFirstSearch(graph.graph, 'S')\n",
    "\n",
    "\n",
    "for i in bfs:\n",
    "    if i == 'G':\n",
    "        print(f\"(({i}))\", end=' ')\n",
    "    else:\n",
    "        print(i, end=' ')\n",
    "\n",
    "print();print()\n",
    "\n",
    "Dfs=depthFirstSearch(graph.graph, 'S')\n",
    "for i in Dfs:\n",
    "    if i == 'G':\n",
    "        print(f\"(({i}))\", end=' ')\n",
    "    else:\n",
    "        print(i, end=' ')\n"
   ]
  },
  {
   "cell_type": "code",
   "execution_count": 88,
   "metadata": {},
   "outputs": [
    {
     "name": "stdout",
     "output_type": "stream",
     "text": [
      "BFS Time Complexity: O(10 + 10)\n",
      "BFS Space Complexity: O(10)\n",
      "DFS Time Complexity: O(10 + 10)\n",
      "DFS Space Complexity: O(10)\n"
     ]
    }
   ],
   "source": [
    "V = list(graph.graph.keys()).index('G') + 1\n",
    "E = 10\n",
    "print(f\"BFS Time Complexity: O({V} + {E})\")\n",
    "print(f\"BFS Space Complexity: O({V})\")\n",
    "print(f\"DFS Time Complexity: O({V} + {E})\")\n",
    "print(f\"DFS Space Complexity: O({V})\")"
   ]
  },
  {
   "cell_type": "markdown",
   "metadata": {},
   "source": [
    "3. For the given tree apply the DLS algorithm to calculate the time and space \n",
    "complexity required in order to reach node J.\n",
    "\n"
   ]
  },
  {
   "cell_type": "code",
   "execution_count": 89,
   "metadata": {},
   "outputs": [
    {
     "name": "stdout",
     "output_type": "stream",
     "text": [
      "S A C D B I J \n",
      "\n",
      "Goal node 'J' found.\n",
      "Traversal: J\n",
      "Time Complexity: 7\n",
      "Space Complexity: 2\n"
     ]
    }
   ],
   "source": [
    "def main():\n",
    "    adjacent_list = {\n",
    "        'S': ['A', 'B'],\n",
    "        'A': ['C', 'D'],\n",
    "        'B': ['I', 'J'],\n",
    "        'C': ['E', 'F'],\n",
    "        'D': ['G'],\n",
    "        'I': ['H'],\n",
    "        'E': [],\n",
    "        'F': [],\n",
    "        'G': [],\n",
    "        'J': [],\n",
    "        'H': []\n",
    "    }\n",
    "\n",
    "    start_node = 'S'\n",
    "    goal = 'J'\n",
    "    limit = 2\n",
    "    result, time_complexity, space_complexity = depth_limited_search(adjacent_list, start_node, goal, limit)\n",
    "    \n",
    "    print();print()\n",
    "    \n",
    "    if result:\n",
    "        print(f\"Goal node '{goal}' found.\")\n",
    "    else:\n",
    "        print(f\"Goal node '{goal}' not found within depth limit.\")\n",
    "\n",
    "    print(f\"Traversal: {result}\")\n",
    "    print(f\"Time Complexity: {time_complexity}\")\n",
    "    print(f\"Space Complexity: {space_complexity}\")\n",
    "\n",
    "\n",
    "def depth_limited_search(graph, start_node, goal, limit):\n",
    "    visited_nodes = []\n",
    "\n",
    "    def dls(current_node, goal, limit):\n",
    "        visited_nodes.append(current_node)\n",
    "        print(current_node, end=' ') \n",
    "        if current_node == goal:\n",
    "            return current_node\n",
    "        if limit <= 0:\n",
    "            return None\n",
    "        for child in graph.get(current_node, []):\n",
    "            result = dls(child, goal, limit - 1)\n",
    "            if result is not None:\n",
    "                return result\n",
    "        return None\n",
    "\n",
    "    result = dls(start_node, goal, limit)\n",
    "    time_complexity = len(visited_nodes)\n",
    "    space_complexity = limit\n",
    "    return result, time_complexity, space_complexity\n",
    "\n",
    "\n",
    "if __name__ == \"__main__\":\n",
    "    main()"
   ]
  },
  {
   "cell_type": "markdown",
   "metadata": {},
   "source": [
    "4. For the given tree apply the UCS algorithm to calculate the time and space \n",
    "complexity required in order to reach node G."
   ]
  },
  {
   "cell_type": "code",
   "execution_count": 90,
   "metadata": {},
   "outputs": [
    {
     "name": "stdout",
     "output_type": "stream",
     "text": [
      "Shortest path: ['A', 'B', 'E', 'G']\n",
      "Total cost: 8\n"
     ]
    }
   ],
   "source": [
    "import heapq\n",
    "\n",
    "def uniform_cost_search(graph, start, goal):\n",
    "    frontier = []  # Priority queue to store nodes to explore\n",
    "    heapq.heappush(frontier, (0, start, [start]))  # (cost, node, path)\n",
    "    explored = set()  # Set to store explored nodes\n",
    "\n",
    "    while frontier:\n",
    "        cost, current, path = heapq.heappop(frontier)\n",
    "        \n",
    "        if current == goal:\n",
    "            return path, cost\n",
    "        \n",
    "        if current in explored:\n",
    "            continue\n",
    "        \n",
    "        explored.add(current)\n",
    "        \n",
    "        for neighbor, neighbor_cost in graph[current].items():\n",
    "            new_cost = cost + neighbor_cost\n",
    "            heapq.heappush(frontier, (new_cost, neighbor, path + [neighbor]))\n",
    "    \n",
    "    return None, None  # No path found\n",
    "\n",
    "# Example usage:\n",
    "graph = { \n",
    "    'A': {'B': 1, 'C': 4}, \n",
    "    'B': {'A': 1, 'D': 2, 'E': 5}, \n",
    "    'C': {'A': 4, 'F': 3}, \n",
    "    'D': {'B': 2, 'G': 6}, \n",
    "    'E': {'B': 5, 'G': 2}, \n",
    "    'F': {'C': 3, 'G': 1}, \n",
    "    'G': {'D': 6, 'E': 2, 'F': 1}\n",
    "} \n",
    "start_node = 'A' \n",
    "goal_node = 'G' \n",
    "\n",
    "# Call the uniform_cost_search function\n",
    "path, cost = uniform_cost_search(graph, start_node, goal_node) \n",
    "\n",
    "# Output the result\n",
    "if path: \n",
    "    print(\"Shortest path:\", path) \n",
    "    print(\"Total cost:\", cost) \n",
    "else: \n",
    "    print(\"No path found.\")"
   ]
  },
  {
   "cell_type": "markdown",
   "metadata": {},
   "source": [
    "5. For the given tree apply the Iterative Deepening algorithm to calculate the \n",
    "time and space complexity required in order to reach node G."
   ]
  },
  {
   "cell_type": "code",
   "execution_count": 91,
   "metadata": {},
   "outputs": [
    {
     "name": "stdout",
     "output_type": "stream",
     "text": [
      "Path found: ['S', 'A', 'D', 'G']\n"
     ]
    }
   ],
   "source": [
    "from collections import deque\n",
    "def dfs (graph, start, goal, depth_limit):\n",
    "    stack = deque ([ (start, [start])]) # Stack with (node, path) pairs\n",
    "    while stack:\n",
    "        current, path = stack.pop()\n",
    "        if current == goal:\n",
    "            return path\n",
    "        if len(path) - 1 < depth_limit:\n",
    "            for neighbor in graph[current]:\n",
    "                if neighbor not in path:\n",
    "                    stack.append( (neighbor, path + [neighbor]) )\n",
    "    return None # No path found within depth limit\n",
    "\n",
    "def iterative_deepening_search(graph, start, goal, max_depth):\n",
    "    for depth in range(max_depth + 1):\n",
    "        result = dfs(graph, start, goal, depth)\n",
    "        if result:\n",
    "            return result\n",
    "    return None\n",
    "\n",
    "graph = {\n",
    "    'S': ['A', 'B'],\n",
    "    'A': ['C', 'D'],\n",
    "    'B': ['I', 'J'],\n",
    "    'C': ['E', 'F'],\n",
    "    'D': ['G'],\n",
    "    'E': ['F'],\n",
    "    'F': [],\n",
    "    'G': [],\n",
    "    'H': [],\n",
    "    'I': ['H'],\n",
    "    'J': []\n",
    "}\n",
    "\n",
    "start_node = 'S'\n",
    "goal_node = 'G'\n",
    "max_depth = 3\n",
    "path = iterative_deepening_search(graph, start_node, goal_node, max_depth)\n",
    "if path:\n",
    "    print(\"Path found:\", path)  \n",
    "else:\n",
    "    print(\"Path not found within depth limit.\")\n",
    "\n"
   ]
  },
  {
   "cell_type": "markdown",
   "metadata": {},
   "source": [
    "### Python032graphs006breadthFirstSearch"
   ]
  },
  {
   "cell_type": "code",
   "execution_count": 92,
   "metadata": {},
   "outputs": [],
   "source": [
    "import Python029graphs003adjacencyList\n",
    "\n",
    "\n",
    "    \n",
    "def depthLimitedSearch(graph, start, goal, limit):\n",
    "    visited = set()\n",
    "    return recursiveDLS(graph, start, goal, limit, visited)\n",
    "\n",
    "def recursiveDLS(graph, current, goal, limit, visited):\n",
    "    if current == goal:\n",
    "        return True\n",
    "    if limit <= 0:\n",
    "        return False\n",
    "    visited.add(current)\n",
    "    for neighbor in graph[current]:\n",
    "        if neighbor not in visited:\n",
    "            if recursiveDLS(graph, neighbor, goal, limit-1, visited):\n",
    "                return True\n",
    "    return False\n"
   ]
  },
  {
   "cell_type": "markdown",
   "metadata": {},
   "source": [
    "### Python033graphs007depthFirstSearch"
   ]
  },
  {
   "cell_type": "code",
   "execution_count": 93,
   "metadata": {},
   "outputs": [],
   "source": [
    "import Python029graphs003adjacencyList\n",
    "\n",
    "def depthFirstSearch(graph, start):\n",
    "    stack = [start]\n",
    "    visited = []\n",
    "\n",
    "    while stack:\n",
    "        vertex = stack.pop()\n",
    "        if vertex not in visited:\n",
    "            visited.append(vertex)\n",
    "            stack.extend(neighbor for neighbor, _ in graph[vertex] if neighbor not in visited)\n",
    "            # add all of the neighbours to the stack 👆\n",
    "    return visited\n"
   ]
  },
  {
   "cell_type": "markdown",
   "metadata": {},
   "source": [
    "### Python039graphs009depthLimitedSearch\n"
   ]
  },
  {
   "cell_type": "code",
   "execution_count": 94,
   "metadata": {},
   "outputs": [],
   "source": [
    "import Python029graphs003adjacencyList\n",
    "\n",
    "  \n",
    "def depthLimitedSearch(graph, start, limit):\n",
    "    stack = [(start, 0)]\n",
    "    visited = []\n",
    "    \n",
    "    while stack:\n",
    "        vertex, depth = stack.pop()\n",
    "        if vertex not in visited and depth < limit:\n",
    "            visited.append(vertex)\n",
    "            stack.extend((neighbor, depth + 1) for neighbor, _ in graph[vertex] if neighbor not in visited)\n",
    "    return visited\n"
   ]
  },
  {
   "cell_type": "markdown",
   "metadata": {},
   "source": [
    "### Python029graphs003adjacencyList"
   ]
  },
  {
   "cell_type": "code",
   "execution_count": 95,
   "metadata": {},
   "outputs": [],
   "source": [
    "# implementation of graphs using adjacency list\n",
    "\n",
    "class Graph:    \n",
    "    # Overall Structure:\n",
    "    # graph is a dictionary: key=vertex, value=list of edges\n",
    "    # Each edge is a tuple (vertex, weight)\n",
    "    \n",
    "    def __init__(self, vertices): # vertices is a list of vertices. Each vertex is a number/character.\n",
    "        self.graph = {}\n",
    "        for vertex in vertices:\n",
    "            self.graph[vertex] = []\n",
    "            \n",
    "    def __str__(self):\n",
    "        result = \"\"\n",
    "        for vertex in self.graph:\n",
    "            result += f\"{vertex}: \"\n",
    "            for edge in self.graph[vertex]:\n",
    "                result += f\"{edge[0]}({edge[1]}) \"\n",
    "            result += \"\\n\"\n",
    "        return result\n",
    "    \n",
    "    def add_edge(self, u, v, weight=1):\n",
    "        self.graph[u].append((v, weight))\n",
    "        self.graph[v].append((u, weight))\n",
    "        \n",
    "    def remove_edge(self, u, v):\n",
    "        self.graph[u] = [edge for edge in self.graph[u] if edge[0] != v]\n",
    "        self.graph[v] = [edge for edge in self.graph[v] if edge[0] != u]\n",
    "    \n",
    "    def has_selfLoop(self):\n",
    "        for vertex in self.graph:\n",
    "            for edge in self.graph[vertex]:\n",
    "                if vertex == edge[0]:\n",
    "                    return True\n",
    "        return False\n"
   ]
  }
 ],
 "metadata": {
  "kernelspec": {
   "display_name": "Python 3",
   "language": "python",
   "name": "python3"
  },
  "language_info": {
   "codemirror_mode": {
    "name": "ipython",
    "version": 3
   },
   "file_extension": ".py",
   "mimetype": "text/x-python",
   "name": "python",
   "nbconvert_exporter": "python",
   "pygments_lexer": "ipython3",
   "version": "3.12.4"
  }
 },
 "nbformat": 4,
 "nbformat_minor": 2
}
