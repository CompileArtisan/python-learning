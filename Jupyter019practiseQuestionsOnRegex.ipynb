{
 "cells": [
  {
   "cell_type": "markdown",
   "metadata": {},
   "source": [
    "### Name: Praanesh Balakrishnan Nair\n",
    "### Regno: BL.EN.U4AIE23132"
   ]
  },
  {
   "cell_type": "markdown",
   "metadata": {},
   "source": [
    "1. Given a string, make a dictionary of key-value pair given as Name-RegNumber."
   ]
  },
  {
   "cell_type": "code",
   "execution_count": 16,
   "metadata": {},
   "outputs": [
    {
     "name": "stdout",
     "output_type": "stream",
     "text": [
      "{'Jance': '224', 'Theon': '334', 'Gabriel': '444', 'Joey': '214'}\n"
     ]
    }
   ],
   "source": [
    "import re\n",
    "def main():\n",
    "    Namereg = '''\n",
    "    Jance regno is 224 and Theon regno is 334\n",
    "    Gabriel regno is 444 and Joey regno is 214\n",
    "    '''\n",
    "    Names = re.findall(r'[A-Z]\\w+', Namereg)\n",
    "    reg = re.findall(r'\\d{3}', Namereg)\n",
    "    \n",
    "    \n",
    "    dictionary = dict(zip(Names, reg))\n",
    "    print(dictionary)\n",
    "    \n",
    "if __name__ == \"__main__\":\n",
    "    main()"
   ]
  },
  {
   "cell_type": "markdown",
   "metadata": {},
   "source": [
    "check if email is in correct format or not"
   ]
  },
  {
   "cell_type": "code",
   "execution_count": 6,
   "metadata": {},
   "outputs": [
    {
     "name": "stdout",
     "output_type": "stream",
     "text": [
      "The email is in the correct format.\n"
     ]
    }
   ],
   "source": [
    "x = \"raju123@gmail.com\"\n",
    "email_pattern = r'\\w*+@\\w*+\\.[a-zA-Z]{2,}'\n",
    "if re.match(email_pattern, x):\n",
    "    print(\"The email is in the correct format.\")\n",
    "else:\n",
    "    print(\"The email is not in the correct format.\")\n"
   ]
  },
  {
   "cell_type": "markdown",
   "metadata": {},
   "source": [
    "Write a python program to decode the representation in which each character\n",
    "is immediately followed by a digit that denotes the number of times the\n",
    "character is repeated.\n",
    "Sample Input: <br>\n",
    "```M1e2t1 a1t1 c1ol12a1g1e1```\n",
    "<br>\n",
    "Sample Output: <br>\n",
    "Meet at collage"
   ]
  },
  {
   "cell_type": "code",
   "execution_count": 9,
   "metadata": {},
   "outputs": [
    {
     "data": {
      "text/plain": [
       "'Meet at collage'"
      ]
     },
     "execution_count": 9,
     "metadata": {},
     "output_type": "execute_result"
    }
   ],
   "source": [
    "x = \"M1e2t1 a1t1 c1o1l2a1g1e1\"\n",
    "string = \"\"\n",
    "for i in range(len(x)):\n",
    "    if x[i].isnumeric():\n",
    "        string+=x[i-1]*int(x[i])\n",
    "    elif x[i] == ' ':\n",
    "        string+= ' '\n",
    "string"
   ]
  },
  {
   "cell_type": "markdown",
   "metadata": {},
   "source": [
    "remove all zeros of a string"
   ]
  },
  {
   "cell_type": "code",
   "execution_count": 17,
   "metadata": {},
   "outputs": [
    {
     "data": {
      "text/plain": [
       "'dfd'"
      ]
     },
     "execution_count": 17,
     "metadata": {},
     "output_type": "execute_result"
    }
   ],
   "source": [
    "x = \"000dfd000\"\n",
    "x = re.sub(r'0', '', x)\n",
    "x"
   ]
  },
  {
   "cell_type": "markdown",
   "metadata": {},
   "source": [
    "convert yyyy-mm-dd into dd-mm-yyyy"
   ]
  },
  {
   "cell_type": "code",
   "execution_count": 20,
   "metadata": {},
   "outputs": [
    {
     "ename": "AttributeError",
     "evalue": "'str' object has no attribute 'sort'",
     "output_type": "error",
     "traceback": [
      "\u001b[1;31m---------------------------------------------------------------------------\u001b[0m",
      "\u001b[1;31mAttributeError\u001b[0m                            Traceback (most recent call last)",
      "Cell \u001b[1;32mIn[20], line 3\u001b[0m\n\u001b[0;32m      1\u001b[0m x \u001b[38;5;241m=\u001b[39m \u001b[38;5;124m\"\u001b[39m\u001b[38;5;124m2005-07-20\u001b[39m\u001b[38;5;124m\"\u001b[39m\n\u001b[0;32m      2\u001b[0m components \u001b[38;5;241m=\u001b[39m x\u001b[38;5;241m.\u001b[39msplit(\u001b[38;5;124m'\u001b[39m\u001b[38;5;124m-\u001b[39m\u001b[38;5;124m'\u001b[39m)\n\u001b[1;32m----> 3\u001b[0m x \u001b[38;5;241m=\u001b[39m \u001b[38;5;28mstr\u001b[39m(\u001b[43mx\u001b[49m\u001b[38;5;241;43m.\u001b[39;49m\u001b[43msort\u001b[49m(reverse\u001b[38;5;241m=\u001b[39m\u001b[38;5;28;01mTrue\u001b[39;00m))\n\u001b[0;32m      4\u001b[0m x\n",
      "\u001b[1;31mAttributeError\u001b[0m: 'str' object has no attribute 'sort'"
     ]
    }
   ],
   "source": []
  }
 ],
 "metadata": {
  "kernelspec": {
   "display_name": "Python 3",
   "language": "python",
   "name": "python3"
  },
  "language_info": {
   "codemirror_mode": {
    "name": "ipython",
    "version": 3
   },
   "file_extension": ".py",
   "mimetype": "text/x-python",
   "name": "python",
   "nbconvert_exporter": "python",
   "pygments_lexer": "ipython3",
   "version": "3.12.4"
  }
 },
 "nbformat": 4,
 "nbformat_minor": 2
}
