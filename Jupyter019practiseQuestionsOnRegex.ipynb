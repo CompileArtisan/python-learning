{
 "cells": [
  {
   "cell_type": "markdown",
   "metadata": {},
   "source": [
    "### Name: Praanesh Balakrishnan Nair\n",
    "### Regno: BL.EN.U4AIE23132"
   ]
  },
  {
   "cell_type": "markdown",
   "metadata": {},
   "source": [
    "1. Given a string, make a dictionary of key-value pair given as Name-RegNumber."
   ]
  },
  {
   "cell_type": "code",
   "execution_count": 2,
   "metadata": {},
   "outputs": [
    {
     "name": "stdout",
     "output_type": "stream",
     "text": [
      "{'Jance': '224', 'Theon': '334', 'Gabriel': '444', 'Joey': '214'}\n"
     ]
    },
    {
     "name": "stderr",
     "output_type": "stream",
     "text": [
      "<>:8: SyntaxWarning: invalid escape sequence '\\d'\n",
      "<>:8: SyntaxWarning: invalid escape sequence '\\d'\n",
      "C:\\Users\\Praanesh Nair\\AppData\\Local\\Temp\\ipykernel_32140\\2841005698.py:8: SyntaxWarning: invalid escape sequence '\\d'\n",
      "  reg = re.findall(\"\\d{3}\", Namereg)\n"
     ]
    }
   ],
   "source": [
    "import re\n",
    "def main():\n",
    "    Namereg = '''\n",
    "    Jance regno is 224 and Theon regno is 334\n",
    "    Gabriel regno is 444 and Joey regno is 214\n",
    "    '''\n",
    "    Names = re.findall(\"[A-Z][a-z]+\", Namereg)\n",
    "    reg = re.findall(\"\\d{3}\", Namereg)\n",
    "    \n",
    "    \n",
    "    dictionary = dict(zip(Names, reg))\n",
    "    print(dictionary)\n",
    "    \n",
    "if __name__ == \"__main__\":\n",
    "    main()"
   ]
  }
 ],
 "metadata": {
  "kernelspec": {
   "display_name": "Python 3",
   "language": "python",
   "name": "python3"
  },
  "language_info": {
   "codemirror_mode": {
    "name": "ipython",
    "version": 3
   },
   "file_extension": ".py",
   "mimetype": "text/x-python",
   "name": "python",
   "nbconvert_exporter": "python",
   "pygments_lexer": "ipython3",
   "version": "3.12.4"
  }
 },
 "nbformat": 4,
 "nbformat_minor": 2
}
