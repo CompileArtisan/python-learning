{
 "cells": [
  {
   "cell_type": "markdown",
   "metadata": {},
   "source": [
    "### <center>Water Jug Problem</center>\n",
    "\n",
    "### Rules:\n",
    "- 2 containers: 4L and 3L (No markings)\n",
    "- Pour water from either to the other till\n",
    "    - The other one is full\n",
    "    - The pouring one is empty\n",
    "- Finally, the 4L jug should have 2L, and the 3L one can have anything\n",
    "\n",
    "\n",
    "### Conditions to make the Graph\n",
    "\n",
    "1. Fill the 4L jug: \n",
    "<br>(x, y) -> (4, y)\n",
    "2. Fill the 3L jug: \n",
    "<br>(x, y) -> (x, 3)\n",
    "3. Empty the 4L jug: \n",
    "<br>(x, y) -> (0, y)\n",
    "4. Empty the 3L jug: \n",
    "<br>(x, y) -> (x, 0)\n",
    "5. Pour from 4L to 3L jug: \n",
    "<br>(x, y) -> (max(0, x+y-3), min(3, x+y))\n",
    "6. Pour from 3L to 4L jug: \n",
    "<br>(x, y) -> (min(4, x+y), max(0, x+y-4))\n",
    "\n",
    "#### Here, x = {0, 1, 2, 3, 4}, y = {0, 1, 2, 3}\n",
    "\n"
   ]
  },
  {
   "cell_type": "code",
   "execution_count": 1,
   "metadata": {},
   "outputs": [
    {
     "name": "stdout",
     "output_type": "stream",
     "text": [
      "Steps to measure 2 liters:\n",
      "Fill jug2: (0, 3)\n",
      "Pour jug2 to jug1: (3, 0)\n",
      "Fill jug2: (3, 3)\n",
      "Pour jug2 to jug1: (4, 2)\n"
     ]
    }
   ],
   "source": [
    "from collections import deque\n",
    "\n",
    "def water_jug_bfs(jug1_capacity, jug2_capacity, target):\n",
    "    visited = set()\n",
    "    queue = deque([(0, 0, [])])  # (jug1, jug2, steps)\n",
    "\n",
    "    while queue:\n",
    "        jug1, jug2, steps = queue.popleft()\n",
    "        \n",
    "        if jug1 == target or jug2 == target: \n",
    "            return steps\n",
    "        \n",
    "        state = (jug1, jug2)\n",
    "        if state in visited:\n",
    "            continue\n",
    "        visited.add(state)\n",
    "\n",
    "        # Generate all possible next states\n",
    "        next_states = [\n",
    "            # Fill jug1 to its maximum capacity\n",
    "            (jug1_capacity, jug2, steps + [f\"Fill jug1: ({jug1_capacity}, {jug2})\"]),\n",
    "            \n",
    "            # Fill jug2 to its maximum capacity\n",
    "            (jug1, jug2_capacity, steps + [f\"Fill jug2: ({jug1}, {jug2_capacity})\"]),\n",
    "            \n",
    "            # Empty jug1 completely\n",
    "            (0, jug2, steps + [f\"Empty jug1: (0, {jug2})\"]),\n",
    "            \n",
    "            # Empty jug2 completely\n",
    "            (jug1, 0, steps + [f\"Empty jug2: ({jug1}, 0)\"]),\n",
    "            \n",
    "            # Pour water from jug2 to jug1 until jug1 is full or jug2 is empty\n",
    "            (min(jug1 + jug2, jug1_capacity), max(0, jug1 + jug2 - jug1_capacity), \n",
    "             steps + [f\"Pour jug2 to jug1: ({min(jug1 + jug2, jug1_capacity)}, {max(0, jug1 + jug2 - jug1_capacity)})\"]),\n",
    "            \n",
    "            # Pour water from jug1 to jug2 until jug2 is full or jug1 is empty\n",
    "            (max(0, jug1 + jug2 - jug2_capacity), min(jug1 + jug2, jug2_capacity), \n",
    "             steps + [f\"Pour jug1 to jug2: ({max(0, jug1 + jug2 - jug2_capacity)}, {min(jug1 + jug2, jug2_capacity)})\"])\n",
    "        ]\n",
    "\n",
    "        queue.extend(state for state in next_states if state[:2] not in visited)\n",
    "\n",
    "    return None  # No solution found\n",
    "\n",
    "# Example usage\n",
    "jug1_capacity, jug2_capacity, target = 4, 3, 2\n",
    "solution = water_jug_bfs(jug1_capacity, jug2_capacity, target)\n",
    "\n",
    "if solution:\n",
    "    print(f\"Steps to measure {target} liters:\")\n",
    "    for step in solution:\n",
    "        print(step)\n",
    "else:\n",
    "    print(\"No solution found.\")"
   ]
  }
 ],
 "metadata": {
  "kernelspec": {
   "display_name": "Python 3",
   "language": "python",
   "name": "python3"
  },
  "language_info": {
   "codemirror_mode": {
    "name": "ipython",
    "version": 3
   },
   "file_extension": ".py",
   "mimetype": "text/x-python",
   "name": "python",
   "nbconvert_exporter": "python",
   "pygments_lexer": "ipython3",
   "version": "3.12.4"
  }
 },
 "nbformat": 4,
 "nbformat_minor": 2
}
